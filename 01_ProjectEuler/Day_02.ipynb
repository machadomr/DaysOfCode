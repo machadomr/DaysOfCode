{
 "cells": [
  {
   "cell_type": "markdown",
   "metadata": {},
   "source": [
    "# <center>Project Euler</center> \n"
   ]
  },
  {
   "cell_type": "markdown",
   "metadata": {},
   "source": [
    "## <span style=\"color: blue;\">Problem #3 </span>"
   ]
  },
  {
   "cell_type": "markdown",
   "metadata": {},
   "source": [
    "### The prime factors of 13195 are 5, 7, 13 and 29.\n",
    "\n",
    "### What is the largest prime factor of the number 600851475143 ?"
   ]
  },
  {
   "cell_type": "code",
   "execution_count": 1,
   "metadata": {},
   "outputs": [],
   "source": [
    "# The Fundamental Theorem of Arithmetic (FTA) says that, every integer greater than 1 has a unique factorization\n",
    "# as a product of prime numbers. So, for reference we know that 600851475143 = 71 * 839 * 1471 * 6857.\n",
    "\n",
    "# We will check if the number is evenly divisible by 2 and \n",
    "# check if it is evenly divisible by one of the odd numbers from 3 to sqrt(number) + 1 \n",
    "# when the number is not evenly divisible in both cases, the number is prime!\n",
    "# Finally, to find the lasrgest prime factor of the number, we divide it consecultivelly by its smallest prime factor"
   ]
  },
  {
   "cell_type": "code",
   "execution_count": 2,
   "metadata": {},
   "outputs": [],
   "source": [
    "# We will use numpy for root square calculations!\n",
    "import numpy as np\n",
    "\n",
    "# n is the number for which we will proceed calculations\n",
    "# this first function check for divisibilities!\n",
    "def small_prime_factor(n):\n",
    "    maximum_possible = int(np.sqrt(n)) + 1\n",
    "    for i in range(2, maximum_possible):\n",
    "        if n % i == 0:\n",
    "            return i\n",
    "    return n\n",
    "\n",
    "# This second function use the smaller factor to iteratively divide the number and find the largest factor!\n",
    "def large_prime_factor(n):\n",
    "    while True:\n",
    "        small_factor = small_prime_factor(n)\n",
    "        if small_factor < n:\n",
    "            n //= small_factor\n",
    "        else:\n",
    "            return n"
   ]
  },
  {
   "cell_type": "code",
   "execution_count": 3,
   "metadata": {},
   "outputs": [
    {
     "name": "stdout",
     "output_type": "stream",
     "text": [
      "The largest prime factor:  6857\n"
     ]
    }
   ],
   "source": [
    "# Here we are just applying functions and printing result!\n",
    "output = large_prime_factor(600851475143)\n",
    "print('The largest prime factor: ', output)"
   ]
  },
  {
   "cell_type": "code",
   "execution_count": null,
   "metadata": {},
   "outputs": [],
   "source": []
  },
  {
   "cell_type": "code",
   "execution_count": null,
   "metadata": {},
   "outputs": [],
   "source": []
  },
  {
   "cell_type": "code",
   "execution_count": null,
   "metadata": {},
   "outputs": [],
   "source": []
  },
  {
   "cell_type": "code",
   "execution_count": null,
   "metadata": {},
   "outputs": [],
   "source": []
  }
 ],
 "metadata": {
  "kernelspec": {
   "display_name": "Python 3",
   "language": "python",
   "name": "python3"
  },
  "language_info": {
   "codemirror_mode": {
    "name": "ipython",
    "version": 3
   },
   "file_extension": ".py",
   "mimetype": "text/x-python",
   "name": "python",
   "nbconvert_exporter": "python",
   "pygments_lexer": "ipython3",
   "version": "3.7.3"
  }
 },
 "nbformat": 4,
 "nbformat_minor": 2
}
