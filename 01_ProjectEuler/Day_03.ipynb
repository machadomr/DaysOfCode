{
 "cells": [
  {
   "cell_type": "markdown",
   "metadata": {},
   "source": [
    "# <center>Project Euler</center> \n"
   ]
  },
  {
   "cell_type": "markdown",
   "metadata": {},
   "source": [
    "## <span style=\"color: blue;\">Problem #4 </span>"
   ]
  },
  {
   "cell_type": "markdown",
   "metadata": {},
   "source": [
    "### A palindromic number reads the same both ways. The largest palindrome made from the product of two 2-digit numbers is 9009 = 91 × 99.\n",
    "\n",
    "### Find the largest palindrome made from the product of two 3-digit numbers."
   ]
  },
  {
   "cell_type": "code",
   "execution_count": 1,
   "metadata": {},
   "outputs": [
    {
     "name": "stdout",
     "output_type": "stream",
     "text": [
      "The largest palindrome made from the product of two 3-digit numbers is:  906609\n"
     ]
    }
   ],
   "source": [
    "def palindrome():\n",
    "    def_palindromes = (i * j\n",
    "                       for i in range(100, 1000)\n",
    "                       for j in range(100, 1000)\n",
    "                       if str(i * j) == str(i * j)[::-1]\n",
    "                       )\n",
    "    return max(def_palindromes)\n",
    "\n",
    "output = palindrome()\n",
    "print('The largest palindrome made from the product of two 3-digit numbers is: ', output)"
   ]
  },
  {
   "cell_type": "markdown",
   "metadata": {},
   "source": [
    "## <span style=\"color: blue;\">Problem #5 </span>"
   ]
  },
  {
   "cell_type": "markdown",
   "metadata": {},
   "source": [
    "### 2520 is the smallest number that can be divided by each of the numbers from 1 to 10 without any remainder.\n",
    "\n",
    "### What is the smallest positive number that is evenly divisible by all of the numbers from 1 to 20?"
   ]
  },
  {
   "cell_type": "code",
   "execution_count": 2,
   "metadata": {},
   "outputs": [],
   "source": [
    "# We are looking for the lowest common multiple (LCM) of the set of numbers between 1-20.\n",
    "# And we know that the LCM of two natural numbers i and j is given by LCM(i, j) = i * j / GCD(i, j)."
   ]
  },
  {
   "cell_type": "code",
   "execution_count": 3,
   "metadata": {},
   "outputs": [
    {
     "name": "stdout",
     "output_type": "stream",
     "text": [
      "The smallest positive number that is evenly divisible by all of the numbers from 1 to 20 is:  232792560\n"
     ]
    }
   ],
   "source": [
    "import math\n",
    "\n",
    "def find_smallest_common_divisible():\n",
    "    output = 1\n",
    "    for i in range(1, 21):\n",
    "        # // divide discarting the remainder\n",
    "        # we imported math to calculate greatest common divisor through .gdc\n",
    "        output *= i // math.gcd(i, output)\n",
    "    return str(output)\n",
    "\n",
    "out = find_smallest_common_divisible()\n",
    "print('The smallest positive number that is evenly divisible by all of the numbers from 1 to 20 is: ', out)"
   ]
  },
  {
   "cell_type": "markdown",
   "metadata": {},
   "source": [
    "## <span style=\"color: blue;\">Problem #6 </span>"
   ]
  },
  {
   "cell_type": "markdown",
   "metadata": {},
   "source": [
    "### The sum of the squares of the first ten natural numbers is, $1^2 + 2^2 + ... + 10^2 = 385$\n",
    "\n",
    "### The square of the sum of the first ten natural numbers is, $(1+2+3+-...+10)^2 = 55^2 = 3025$\n",
    "\n",
    "### Hence the difference between the sum of the squares of the first ten natural numbers and the square of the sum is $3025 - 385 = 2640$.\n",
    "\n",
    "### Find the difference between the sum of the squares of the first one hundred natural numbers and the square of the sum."
   ]
  },
  {
   "cell_type": "code",
   "execution_count": 4,
   "metadata": {},
   "outputs": [
    {
     "name": "stdout",
     "output_type": "stream",
     "text": [
      "The dif. between the sum of the squares of the first 100 natural numbers and the square of the sum is:  25164150\n"
     ]
    }
   ],
   "source": [
    "def sum_squares():\n",
    "    n = 100\n",
    "    sum1 = sum(i for i in range(1, n + 1))\n",
    "    sum2 = sum(i**2 for i in range(1, n + 1))\n",
    "    return str(sum1**2 - sum2)\n",
    "\n",
    "output = sum_squares()\n",
    "print('The dif. between the sum of the squares of the first 100 natural numbers and the square of the sum is: ', output)"
   ]
  },
  {
   "cell_type": "code",
   "execution_count": null,
   "metadata": {},
   "outputs": [],
   "source": []
  }
 ],
 "metadata": {
  "kernelspec": {
   "display_name": "Python 3",
   "language": "python",
   "name": "python3"
  },
  "language_info": {
   "codemirror_mode": {
    "name": "ipython",
    "version": 3
   },
   "file_extension": ".py",
   "mimetype": "text/x-python",
   "name": "python",
   "nbconvert_exporter": "python",
   "pygments_lexer": "ipython3",
   "version": "3.7.3"
  }
 },
 "nbformat": 4,
 "nbformat_minor": 2
}
