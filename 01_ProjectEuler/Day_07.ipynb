{
 "cells": [
  {
   "cell_type": "markdown",
   "metadata": {},
   "source": [
    "# <center>Project Euler</center> \n"
   ]
  },
  {
   "cell_type": "markdown",
   "metadata": {},
   "source": [
    "## <span style=\"color: blue;\">Problem #7 </span>"
   ]
  },
  {
   "cell_type": "markdown",
   "metadata": {},
   "source": [
    "### By listing the first six prime numbers: 2, 3, 5, 7, 11, and 13, we can see that the 6th prime is 13.\n",
    "\n",
    "### What is the 10 001st prime number?"
   ]
  },
  {
   "cell_type": "code",
   "execution_count": 1,
   "metadata": {},
   "outputs": [
    {
     "name": "stdout",
     "output_type": "stream",
     "text": [
      "The final solution is: 104743\n",
      "The first prime is: 2\n",
      "The second prime is: 3\n",
      "The third prime is: 5\n"
     ]
    }
   ],
   "source": [
    "# https://en.wikipedia.org/wiki/Sieve_of_Eratosthenes\n",
    "# The sieve of Eratosthenes is an ancient algorithm for finding all prime numbers up to any given limit.\n",
    "# The pseudocode is available at this wikipedia page.\n",
    "# Something to pay attention, because of python index that starts at 0, the final solution is for the index 10000.\n",
    "\n",
    "import numpy as np\n",
    "\n",
    "to_set_upperbound = 200000\n",
    "# We initially set all values as True\n",
    "array_to_check = np.array([True for i in range(to_set_upperbound)])\n",
    "array_to_check[0:2] = False\n",
    "upperbound = int(np.sqrt(to_set_upperbound))\n",
    "\n",
    "for i in range(2, upperbound + 1):\n",
    "    if array_to_check[i]:\n",
    "        j = i * i\n",
    "        counter = 0\n",
    "        while j < to_set_upperbound:\n",
    "            array_to_check[j] = False\n",
    "            j = (i * i) + (counter * i)\n",
    "            counter += 1\n",
    "\n",
    "# Creating an array with the primes (the final True values)            \n",
    "primes = np.where(array_to_check == True)[0]\n",
    "\n",
    "# Checking for the prime position in the array we want\n",
    "solution = primes[10000]\n",
    "solution_a = primes[0]\n",
    "solution_b = primes[1]\n",
    "solution_c = primes[2]\n",
    "\n",
    "print('The final solution is:', solution)\n",
    "print('The first prime is:', solution_a)\n",
    "print('The second prime is:', solution_b)\n",
    "print('The third prime is:', solution_c)"
   ]
  },
  {
   "cell_type": "markdown",
   "metadata": {},
   "source": [
    "## <span style=\"color: blue;\">Problem #9 </span>"
   ]
  },
  {
   "cell_type": "markdown",
   "metadata": {},
   "source": [
    "### A Pythagorean triplet is a set of three natural numbers, a < b < c, for which, $a^2 + b^2 = c^2$\n",
    "### For example, $3^2+ 4^2 = 9 + 16 = 25 = 5^2$.\n",
    "\n",
    "### There exists exactly one Pythagorean triplet for which a + b + c = 1000.\n",
    "### Find the product abc."
   ]
  },
  {
   "cell_type": "code",
   "execution_count": 2,
   "metadata": {},
   "outputs": [
    {
     "name": "stdout",
     "output_type": "stream",
     "text": [
      "a: 200, b: 375, c: 425\n",
      "a + b + c = 1000\n",
      "a * b * c = 31875000\n"
     ]
    }
   ],
   "source": [
    "# We know that the perimeter of the triangle is 1000. So, for a given a and b we can calculate a and b. Then,\n",
    "# We just have to check for all possible values untill we find the correc one.\n",
    "\n",
    "def compute():\n",
    "    perimeter = 1000\n",
    "    for a in range(1, perimeter + 1):\n",
    "        for b in range(a + 1, perimeter + 1):\n",
    "            c = perimeter - a - b\n",
    "            if a * a + b * b == c * c:\n",
    "                print(f\"a: {a}, b: {b}, c: {c}\")\n",
    "                print(f\"a + b + c = {a + b + c}\")\n",
    "                print(f\"a * b * c = {a * b * c}\")\n",
    "                return \n",
    "compute()"
   ]
  },
  {
   "cell_type": "code",
   "execution_count": 3,
   "metadata": {},
   "outputs": [
    {
     "name": "stdout",
     "output_type": "stream",
     "text": [
      "a: 3, b: 4, c: 5\n",
      "a + b + c = 12\n",
      "a * b * c = 60\n"
     ]
    }
   ],
   "source": [
    "# This is to show what the problem demonstrate --> perimeter equals to 12 (3+4+5)\n",
    "def compute():\n",
    "    perimeter = 12\n",
    "    for a in range(1, perimeter + 1):\n",
    "        for b in range(a + 1, perimeter + 1):\n",
    "            c = perimeter - a - b\n",
    "            if a * a + b * b == c * c:\n",
    "                print(f\"a: {a}, b: {b}, c: {c}\")\n",
    "                print(f\"a + b + c = {a + b + c}\")\n",
    "                print(f\"a * b * c = {a * b * c}\")\n",
    "                return \n",
    "compute()"
   ]
  },
  {
   "cell_type": "code",
   "execution_count": null,
   "metadata": {},
   "outputs": [],
   "source": []
  },
  {
   "cell_type": "code",
   "execution_count": null,
   "metadata": {},
   "outputs": [],
   "source": []
  }
 ],
 "metadata": {
  "kernelspec": {
   "display_name": "Python 3",
   "language": "python",
   "name": "python3"
  },
  "language_info": {
   "codemirror_mode": {
    "name": "ipython",
    "version": 3
   },
   "file_extension": ".py",
   "mimetype": "text/x-python",
   "name": "python",
   "nbconvert_exporter": "python",
   "pygments_lexer": "ipython3",
   "version": "3.7.3"
  }
 },
 "nbformat": 4,
 "nbformat_minor": 2
}
