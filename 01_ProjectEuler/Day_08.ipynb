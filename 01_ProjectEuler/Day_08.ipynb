{
 "cells": [
  {
   "cell_type": "markdown",
   "metadata": {},
   "source": [
    "# <center>Project Euler</center> \n"
   ]
  },
  {
   "cell_type": "markdown",
   "metadata": {},
   "source": [
    "## <span style=\"color: blue;\">Problem #10 </span>"
   ]
  },
  {
   "cell_type": "markdown",
   "metadata": {},
   "source": [
    "### The sum of the primes below 10 is 2 + 3 + 5 + 7 = 17.\n",
    "\n",
    "### Find the sum of all the primes below two million."
   ]
  },
  {
   "cell_type": "code",
   "execution_count": 1,
   "metadata": {},
   "outputs": [
    {
     "name": "stdout",
     "output_type": "stream",
     "text": [
      "The final solution for the problem is:  142913828922\n"
     ]
    }
   ],
   "source": [
    "# We built this same algorithm in Day #7, thus we will just use the same!\n",
    "\n",
    "import numpy as np\n",
    "\n",
    "to_set_upperbound = 5000000\n",
    "# We initially set all values as True\n",
    "array_to_check = np.array([True for i in range(to_set_upperbound)])\n",
    "array_to_check[0:2] = False\n",
    "upperbound = int(np.sqrt(to_set_upperbound))\n",
    "\n",
    "for i in range(2, upperbound + 1):\n",
    "    if array_to_check[i]:\n",
    "        j = i * i\n",
    "        counter = 0\n",
    "        while j < to_set_upperbound:\n",
    "            array_to_check[j] = False\n",
    "            j = (i * i) + (counter * i)\n",
    "            counter += 1\n",
    "\n",
    "# Creating an array with the primes (the final True values)            \n",
    "primes = np.where(array_to_check == True)[0]\n",
    "\n",
    "num = np.where(primes < 2000000)[0]\n",
    "group = primes[num]\n",
    "output = sum(group)\n",
    "print('The final solution for the problem is: ', output)"
   ]
  },
  {
   "cell_type": "code",
   "execution_count": 2,
   "metadata": {},
   "outputs": [
    {
     "name": "stdout",
     "output_type": "stream",
     "text": [
      "The final solution for the problem is:  17\n"
     ]
    }
   ],
   "source": [
    "# Test for the summation od primes lower than 10! (Just like in the problem formulation!)\n",
    "\n",
    "to_set_upperbound = 100\n",
    "# We initially set all values as True\n",
    "array_to_check = np.array([True for i in range(to_set_upperbound)])\n",
    "array_to_check[0:2] = False\n",
    "upperbound = int(np.sqrt(to_set_upperbound))\n",
    "\n",
    "for i in range(2, upperbound + 1):\n",
    "    if array_to_check[i]:\n",
    "        j = i * i\n",
    "        counter = 0\n",
    "        while j < to_set_upperbound:\n",
    "            array_to_check[j] = False\n",
    "            j = (i * i) + (counter * i)\n",
    "            counter += 1\n",
    "\n",
    "# Creating an array with the primes (the final True values)            \n",
    "primes = np.where(array_to_check == True)[0]\n",
    "\n",
    "num = np.where(primes < 10)[0]\n",
    "group = primes[num]\n",
    "output = sum(group)\n",
    "print('The final solution for the problem is: ', output)"
   ]
  },
  {
   "cell_type": "code",
   "execution_count": null,
   "metadata": {},
   "outputs": [],
   "source": []
  }
 ],
 "metadata": {
  "kernelspec": {
   "display_name": "Python 3",
   "language": "python",
   "name": "python3"
  },
  "language_info": {
   "codemirror_mode": {
    "name": "ipython",
    "version": 3
   },
   "file_extension": ".py",
   "mimetype": "text/x-python",
   "name": "python",
   "nbconvert_exporter": "python",
   "pygments_lexer": "ipython3",
   "version": "3.7.3"
  }
 },
 "nbformat": 4,
 "nbformat_minor": 2
}
