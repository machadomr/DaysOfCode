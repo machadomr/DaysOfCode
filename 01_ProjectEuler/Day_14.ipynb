{
 "cells": [
  {
   "cell_type": "markdown",
   "metadata": {},
   "source": [
    "# <center>Project Euler</center> \n"
   ]
  },
  {
   "cell_type": "markdown",
   "metadata": {},
   "source": [
    "## <span style=\"color: blue;\">Problem #21 </span>"
   ]
  },
  {
   "cell_type": "markdown",
   "metadata": {},
   "source": [
    "### Let d(n) be defined as the sum of proper divisors of n (numbers less than n which divide evenly into n). If d(a) = b and d(b) = a, where a ≠ b, then a and b are an amicable pair and each of a and b are called amicable numbers.\n",
    "\n",
    "### For example, the proper divisors of 220 are 1, 2, 4, 5, 10, 11, 20, 22, 44, 55 and 110; therefore d(220) = 284. The proper divisors of 284 are 1, 2, 4, 71 and 142; so d(284) = 220.\n",
    "\n",
    "### Evaluate the sum of all the amicable numbers under 10000."
   ]
  },
  {
   "cell_type": "code",
   "execution_count": 1,
   "metadata": {},
   "outputs": [],
   "source": [
    "# First we create a list with the summation of the divisors, then we verify what are the amicable numbers."
   ]
  },
  {
   "cell_type": "code",
   "execution_count": 3,
   "metadata": {},
   "outputs": [
    {
     "name": "stdout",
     "output_type": "stream",
     "text": [
      "31626\n"
     ]
    }
   ],
   "source": [
    "def amicable():\n",
    "    # Listing the summation of divisors\n",
    "    sum_divisors = [0] * 10000\n",
    "    for i in range(1, len(sum_divisors)):\n",
    "        for j in range(i * 2, len(sum_divisors), i):\n",
    "            sum_divisors[j] += i\n",
    "    # Verifying for amicables\n",
    "    output = 0\n",
    "    for i in range(1, len(sum_divisors)):\n",
    "        j = sum_divisors[i]\n",
    "        if j != i and j < len(sum_divisors) and sum_divisors[j] == i:\n",
    "            output += i\n",
    "    return str(output)\n",
    "\n",
    "print(amicable())"
   ]
  },
  {
   "cell_type": "markdown",
   "metadata": {},
   "source": [
    "## <span style=\"color: blue;\">Problem #23 </span>"
   ]
  },
  {
   "cell_type": "markdown",
   "metadata": {},
   "source": [
    "### A perfect number is a number for which the sum of its proper divisors is exactly equal to the number. For example, the sum of the proper divisors of 28 would be 1 + 2 + 4 + 7 + 14 = 28, which means that 28 is a perfect number.\n",
    "\n",
    "### A number n is called deficient if the sum of its proper divisors is less than n and it is called abundant if this sum exceeds n.\n",
    "\n",
    "### As 12 is the smallest abundant number, 1 + 2 + 3 + 4 + 6 = 16, the smallest number that can be written as the sum of two abundant numbers is 24. By mathematical analysis, it can be shown that all integers greater than 28123 can be written as the sum of two abundant numbers. However, this upper limit cannot be reduced any further by analysis even though it is known that the greatest number that cannot be expressed as the sum of two abundant numbers is less than this limit.\n",
    "\n",
    "### Find the sum of all the positive integers which cannot be written as the sum of two abundant numbers."
   ]
  },
  {
   "cell_type": "code",
   "execution_count": 4,
   "metadata": {},
   "outputs": [
    {
     "name": "stdout",
     "output_type": "stream",
     "text": [
      "4179871\n"
     ]
    }
   ],
   "source": [
    "def sum_positive_integers_not_two_abundant():\n",
    "    \n",
    "    upper_limit = 28124\n",
    "    sum_divisors = [0] * upper_limit\n",
    "    for i in range(1, upper_limit):\n",
    "        for j in range(i * 2, upper_limit, i):\n",
    "            sum_divisors[j] += i\n",
    "    abundants = [i for (i, k) in enumerate(sum_divisors) if k > i]\n",
    "\n",
    "    written_test = [False] * upper_limit\n",
    "    for i in abundants:\n",
    "        for j in abundants:\n",
    "            if i + j < upper_limit:\n",
    "                written_test[i + j] = True\n",
    "            else:\n",
    "                break\n",
    "\n",
    "    output = sum(i for (i, k) in enumerate(written_test) if not k)\n",
    "    return str(output)\n",
    "\n",
    "print(sum_positive_integers_not_two_abundant())"
   ]
  },
  {
   "cell_type": "markdown",
   "metadata": {},
   "source": [
    "## <span style=\"color: blue;\">Problem #24 </span>"
   ]
  },
  {
   "cell_type": "markdown",
   "metadata": {},
   "source": [
    "### A permutation is an ordered arrangement of objects. For example, 3124 is one possible permutation of the digits 1, 2, 3 and 4. If all of the permutations are listed numerically or alphabetically, we call it lexicographic order. The lexicographic permutations of 0, 1 and 2 are:\n",
    "\n",
    "### 012   021   102   120   201   210\n",
    "\n",
    "### What is the millionth lexicographic permutation of the digits 0, 1, 2, 3, 4, 5, 6, 7, 8 and 9?"
   ]
  },
  {
   "cell_type": "code",
   "execution_count": 5,
   "metadata": {},
   "outputs": [
    {
     "name": "stdout",
     "output_type": "stream",
     "text": [
      "2783915460\n"
     ]
    }
   ],
   "source": [
    "import itertools\n",
    "\n",
    "# We will use the library to calc the permutations\n",
    "\n",
    "def permutation():\n",
    "    \n",
    "    list_array = list(range(10))\n",
    "    prev_permutation = itertools.islice(itertools.permutations(list_array), 999999, None)\n",
    "    return \"\".join(str(i) for i in next(prev_permutation))\n",
    "\n",
    "print(permutation())"
   ]
  },
  {
   "cell_type": "code",
   "execution_count": null,
   "metadata": {},
   "outputs": [],
   "source": []
  }
 ],
 "metadata": {
  "kernelspec": {
   "display_name": "Python 3",
   "language": "python",
   "name": "python3"
  },
  "language_info": {
   "codemirror_mode": {
    "name": "ipython",
    "version": 3
   },
   "file_extension": ".py",
   "mimetype": "text/x-python",
   "name": "python",
   "nbconvert_exporter": "python",
   "pygments_lexer": "ipython3",
   "version": "3.7.3"
  }
 },
 "nbformat": 4,
 "nbformat_minor": 2
}
