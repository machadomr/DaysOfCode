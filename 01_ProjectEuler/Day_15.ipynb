{
 "cells": [
  {
   "cell_type": "markdown",
   "metadata": {},
   "source": [
    "# <center>Project Euler</center> \n"
   ]
  },
  {
   "cell_type": "markdown",
   "metadata": {},
   "source": [
    "## <span style=\"color: blue;\">Problem #27 </span>"
   ]
  },
  {
   "cell_type": "markdown",
   "metadata": {},
   "source": [
    "### 145 is a curious number, as 1! + 4! + 5! = 1 + 24 + 120 = 145.\n",
    "\n",
    "### Find the sum of all numbers which are equal to the sum of the factorial of their digits.\n",
    "\n",
    "### Note: As 1! = 1 and 2! = 2 are not sums they are not included."
   ]
  },
  {
   "cell_type": "code",
   "execution_count": 6,
   "metadata": {},
   "outputs": [
    {
     "name": "stdout",
     "output_type": "stream",
     "text": [
      "40730\n"
     ]
    }
   ],
   "source": [
    "import math\n",
    "\n",
    "Fact_summation_without_lead_zeros = [sum(math.factorial(int(c)) for c in str(i)) for i in range(10000)]\n",
    "Fact_summation_with_lead_zeros = [sum(math.factorial(int(c)) for c in str(i).zfill(4)) for i in range(10000)]\n",
    "\n",
    "def summation_factorial(x):\n",
    "    summation_factorial_result = 0\n",
    "    while x >= 10000:\n",
    "        summation_factorial_result += Fact_summation_with_lead_zeros[x % 10000]\n",
    "        x //= 10000\n",
    "    return summation_factorial_result + Fact_summation_without_lead_zeros[x]\n",
    "\n",
    "def calculation():\n",
    "    output = sum(i for i in range(3, 10000000) if i == summation_factorial(i))\n",
    "    return str(output)\n",
    "\n",
    "print(calculation())"
   ]
  },
  {
   "cell_type": "code",
   "execution_count": null,
   "metadata": {},
   "outputs": [],
   "source": []
  },
  {
   "cell_type": "code",
   "execution_count": null,
   "metadata": {},
   "outputs": [],
   "source": []
  }
 ],
 "metadata": {
  "kernelspec": {
   "display_name": "Python 3",
   "language": "python",
   "name": "python3"
  },
  "language_info": {
   "codemirror_mode": {
    "name": "ipython",
    "version": 3
   },
   "file_extension": ".py",
   "mimetype": "text/x-python",
   "name": "python",
   "nbconvert_exporter": "python",
   "pygments_lexer": "ipython3",
   "version": "3.7.3"
  }
 },
 "nbformat": 4,
 "nbformat_minor": 2
}
