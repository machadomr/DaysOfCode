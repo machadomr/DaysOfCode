{
 "cells": [
  {
   "cell_type": "markdown",
   "metadata": {},
   "source": [
    "# <center>Project Euler</center> \n"
   ]
  },
  {
   "cell_type": "markdown",
   "metadata": {},
   "source": [
    "## <span style=\"color: blue;\">Problem #31 </span>"
   ]
  },
  {
   "cell_type": "markdown",
   "metadata": {},
   "source": [
    "### In the United Kingdom the currency is made up of pound (£) and pence (p). There are eight coins in general circulation:\n",
    "\n",
    "### 1p, 2p, 5p, 10p, 20p, 50p, £1 (100p), and £2 (200p).\n",
    "### It is possible to make £2 in the following way:\n",
    "\n",
    "### 1×£1 + 1×50p + 2×20p + 1×5p + 1×2p + 3×1p\n",
    "### How many different ways can £2 be made using any number of coins?"
   ]
  },
  {
   "cell_type": "code",
   "execution_count": 1,
   "metadata": {},
   "outputs": [
    {
     "name": "stdout",
     "output_type": "stream",
     "text": [
      "73682\n"
     ]
    }
   ],
   "source": [
    "def coins_comb():\n",
    "    upper_limit = 200\n",
    "    possible_combinations = [1] + [0] * upper_limit\n",
    "    for c in [1, 2, 5, 10, 20, 50, 100, 200]:\n",
    "        for i in range(len(possible_combinations) - c):\n",
    "            possible_combinations[i + c] += possible_combinations[i]\n",
    "    return str(possible_combinations[-1])\n",
    "print(coins_comb())"
   ]
  },
  {
   "cell_type": "markdown",
   "metadata": {},
   "source": [
    "## <span style=\"color: blue;\">Problem #32 </span>"
   ]
  },
  {
   "cell_type": "markdown",
   "metadata": {},
   "source": [
    "### We shall say that an n-digit number is pandigital if it makes use of all the digits 1 to n exactly once; for example, the 5-digit number, 15234, is 1 through 5 pandigital.\n",
    "\n",
    "### The product 7254 is unusual, as the identity, 39 × 186 = 7254, containing multiplicand, multiplier, and product is 1 through 9 pandigital.\n",
    "\n",
    "### Find the sum of all products whose multiplicand/multiplier/product identity can be written as a 1 through 9 pandigital.\n",
    "\n",
    "### HINT: Some products can be obtained in more than one way so be sure to only include it once in your sum."
   ]
  },
  {
   "cell_type": "code",
   "execution_count": 2,
   "metadata": {},
   "outputs": [
    {
     "name": "stdout",
     "output_type": "stream",
     "text": [
      "45228\n"
     ]
    }
   ],
   "source": [
    "# Inspired in https: // github. com/ nay uki / solution: \n",
    "\n",
    "import math\n",
    "\n",
    "def calculation():\n",
    "    output = sum(i for i in range(1, 10000) if verify_pandigital(i))\n",
    "    return str(output)\n",
    "\n",
    "def verify_pandigital(n):\n",
    "    for i in range(1, int(math.sqrt(n)) + 1):\n",
    "        if n % i == 0:\n",
    "            temp = str(n) + str(i) + str(n // i)\n",
    "            if \"\".join(sorted(temp)) == \"123456789\":\n",
    "                return True\n",
    "    return False\n",
    "\n",
    "print(calculation())"
   ]
  },
  {
   "cell_type": "code",
   "execution_count": null,
   "metadata": {},
   "outputs": [],
   "source": []
  },
  {
   "cell_type": "code",
   "execution_count": null,
   "metadata": {},
   "outputs": [],
   "source": []
  }
 ],
 "metadata": {
  "kernelspec": {
   "display_name": "Python 3",
   "language": "python",
   "name": "python3"
  },
  "language_info": {
   "codemirror_mode": {
    "name": "ipython",
    "version": 3
   },
   "file_extension": ".py",
   "mimetype": "text/x-python",
   "name": "python",
   "nbconvert_exporter": "python",
   "pygments_lexer": "ipython3",
   "version": "3.7.3"
  }
 },
 "nbformat": 4,
 "nbformat_minor": 2
}
