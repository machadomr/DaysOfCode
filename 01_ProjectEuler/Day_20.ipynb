{
 "cells": [
  {
   "cell_type": "markdown",
   "metadata": {},
   "source": [
    "# <center>Project Euler</center> \n"
   ]
  },
  {
   "cell_type": "markdown",
   "metadata": {},
   "source": [
    "## <span style=\"color: blue;\">Problem #33 </span>"
   ]
  },
  {
   "cell_type": "markdown",
   "metadata": {},
   "source": [
    "### The fraction 49/8 is a curious fraction, as an inexperienced mathematician in attempting to simplify it may incorrectly believe that 49/98 = 4/8, which is correct, is obtained by cancelling the 9s.\n",
    "### We shall consider fractions like, 30/50 = 3/5, to be trivial examples.\n",
    "### There are exactly four non-trivial examples of this type of fraction, less than one in value, and containing two digits in the numerator and denominator.\n",
    "### If the product of these four fractions is given in its lowest common terms, find the value of the denominator."
   ]
  },
  {
   "cell_type": "code",
   "execution_count": 5,
   "metadata": {},
   "outputs": [
    {
     "name": "stdout",
     "output_type": "stream",
     "text": [
      "100\n"
     ]
    }
   ],
   "source": [
    "import math\n",
    "\n",
    "def fractions_computation():\n",
    "    numererator = 1\n",
    "    denominator = 1\n",
    "    for dem in range(10, 100):\n",
    "        for num in range(10, dem):\n",
    "            num_0 = num % 10\n",
    "            num_1 = num // 10\n",
    "            dem_0 = dem % 10\n",
    "            dem_1 = dem // 10\n",
    "            if (num_1 == dem_0 and num_0 * dem == num * dem_1) or (num_0 == dem_1 and num_1 * dem == num * dem_0):\n",
    "                numererator *= num\n",
    "                denominator *= dem\n",
    "    return str(denominator // math.gcd(numererator, denominator))\n",
    "\n",
    "print(fractions_computation())"
   ]
  },
  {
   "cell_type": "code",
   "execution_count": null,
   "metadata": {},
   "outputs": [],
   "source": []
  }
 ],
 "metadata": {
  "kernelspec": {
   "display_name": "Python 3",
   "language": "python",
   "name": "python3"
  },
  "language_info": {
   "codemirror_mode": {
    "name": "ipython",
    "version": 3
   },
   "file_extension": ".py",
   "mimetype": "text/x-python",
   "name": "python",
   "nbconvert_exporter": "python",
   "pygments_lexer": "ipython3",
   "version": "3.7.3"
  }
 },
 "nbformat": 4,
 "nbformat_minor": 2
}
