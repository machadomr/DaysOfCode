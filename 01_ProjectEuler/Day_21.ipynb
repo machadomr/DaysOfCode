{
 "cells": [
  {
   "cell_type": "markdown",
   "metadata": {},
   "source": [
    "# <center>Project Euler</center> \n"
   ]
  },
  {
   "cell_type": "markdown",
   "metadata": {},
   "source": [
    "## <span style=\"color: blue;\">Problem #36 </span>"
   ]
  },
  {
   "cell_type": "markdown",
   "metadata": {},
   "source": [
    "### The decimal number, 585 = (1001001001)_2 (binary), is palindromic in both bases.\n",
    "\n",
    "### Find the sum of all numbers, less than one million, which are palindromic in base 10 and base 2.\n",
    "\n",
    "### (Please note that the palindromic number, in either base, may not include leading zeros.)"
   ]
  },
  {
   "cell_type": "code",
   "execution_count": 11,
   "metadata": {},
   "outputs": [
    {
     "name": "stdout",
     "output_type": "stream",
     "text": [
      "872187\n"
     ]
    }
   ],
   "source": [
    "def checking_palindrome(n):\n",
    "    number = str(n)\n",
    "    if number != number[ : : -1]:\n",
    "        return False\n",
    "    temp = bin(n)[2 : ]\n",
    "    return temp == temp[ : : -1]\n",
    "\n",
    "def palindromic():\n",
    "    final_solution = sum(i for i in range(1000000) if checking_palindrome(i))\n",
    "    return str(final_solution)\n",
    "\n",
    "print(palindromic())"
   ]
  },
  {
   "cell_type": "markdown",
   "metadata": {},
   "source": [
    "## <span style=\"color: blue;\">Problem #37 </span>"
   ]
  },
  {
   "cell_type": "markdown",
   "metadata": {},
   "source": [
    "### The number 3797 has an interesting property. Being prime itself, it is possible to continuously remove digits from left to right, and remain prime at each stage: 3797, 797, 97, and 7. Similarly we can work from right to left: 3797, 379, 37, and 3.\n",
    "\n",
    "### Find the sum of the only eleven primes that are both truncatable from left to right and right to left.\n",
    "\n",
    "### NOTE: 2, 3, 5, and 7 are not considered to be truncatable primes."
   ]
  },
  {
   "cell_type": "code",
   "execution_count": 12,
   "metadata": {},
   "outputs": [
    {
     "name": "stdout",
     "output_type": "stream",
     "text": [
      "748317\n"
     ]
    }
   ],
   "source": [
    "import eulerlib, itertools\n",
    "\n",
    "def checking_if_is_prime_truncatable(num):\n",
    "    # From left\n",
    "    i = 10\n",
    "    while i <= num:\n",
    "        if not eulerlib.is_prime(num % i):\n",
    "            return False\n",
    "        i *= 10\n",
    "    # From right\n",
    "    while num > 0:\n",
    "        if not eulerlib.is_prime(num):\n",
    "            return False\n",
    "        num //= 10\n",
    "    return True\n",
    "\n",
    "def sum_of_primes():\n",
    "    solution = sum(itertools.islice(filter(checking_if_is_prime_truncatable, itertools.count(10)), 11))\n",
    "    return str(solution)\n",
    "\n",
    "print(sum_of_primes())"
   ]
  },
  {
   "cell_type": "code",
   "execution_count": null,
   "metadata": {},
   "outputs": [],
   "source": []
  },
  {
   "cell_type": "code",
   "execution_count": null,
   "metadata": {},
   "outputs": [],
   "source": []
  }
 ],
 "metadata": {
  "kernelspec": {
   "display_name": "Python 3",
   "language": "python",
   "name": "python3"
  },
  "language_info": {
   "codemirror_mode": {
    "name": "ipython",
    "version": 3
   },
   "file_extension": ".py",
   "mimetype": "text/x-python",
   "name": "python",
   "nbconvert_exporter": "python",
   "pygments_lexer": "ipython3",
   "version": "3.7.3"
  }
 },
 "nbformat": 4,
 "nbformat_minor": 2
}
