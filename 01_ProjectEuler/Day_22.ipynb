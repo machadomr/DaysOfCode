{
 "cells": [
  {
   "cell_type": "markdown",
   "metadata": {},
   "source": [
    "# <center>Project Euler</center> \n"
   ]
  },
  {
   "cell_type": "markdown",
   "metadata": {},
   "source": [
    "## <span style=\"color: blue;\">Problem #38 </span>"
   ]
  },
  {
   "cell_type": "markdown",
   "metadata": {},
   "source": [
    "### Take the number 192 and multiply it by each of 1, 2, and 3:\n",
    "\n",
    "### 192 × 1 = 192\n",
    "### 192 × 2 = 384\n",
    "### 192 × 3 = 576\n",
    "### By concatenating each product we get the 1 to 9 pandigital, 192384576. We will call 192384576 the concatenated product of 192 and (1,2,3)\n",
    "\n",
    "### The same can be achieved by starting with 9 and multiplying by 1, 2, 3, 4, and 5, giving the pandigital, 918273645, which is the concatenated product of 9 and (1,2,3,4,5).\n",
    "\n",
    "### What is the largest 1 to 9 pandigital 9-digit number that can be formed as the concatenated product of an integer with (1,2, ... , n) where n > 1?"
   ]
  },
  {
   "cell_type": "code",
   "execution_count": 1,
   "metadata": {},
   "outputs": [
    {
     "name": "stdout",
     "output_type": "stream",
     "text": [
      "932718654\n"
     ]
    }
   ],
   "source": [
    "def largest_pandigital():\n",
    "    solution = \"\"\n",
    "    for i in range(2, 10):\n",
    "        for j in range(1, 10**(9 // i)):\n",
    "            l = \"\".join(str(j * k) for k in range(1, i + 1))\n",
    "            if \"\".join(sorted(l)) == \"123456789\":\n",
    "                solution = max(l, solution)\n",
    "    return solution\n",
    "\n",
    "print(largest_pandigital())"
   ]
  },
  {
   "cell_type": "markdown",
   "metadata": {},
   "source": [
    "## <span style=\"color: blue;\">Problem #39 </span>"
   ]
  },
  {
   "cell_type": "markdown",
   "metadata": {},
   "source": [
    "### If p is the perimeter of a right angle triangle with integral length sides, {a,b,c}, there are exactly three solutions for p = 120.\n",
    "\n",
    "### {20,48,52}, {24,45,51}, {30,40,50}\n",
    "\n",
    "### For which value of p ≤ 1000, is the number of solutions maximised?"
   ]
  },
  {
   "cell_type": "code",
   "execution_count": 2,
   "metadata": {},
   "outputs": [
    {
     "name": "stdout",
     "output_type": "stream",
     "text": [
      "840.0\n"
     ]
    }
   ],
   "source": [
    "import math\n",
    "\n",
    "perimeters_list = {}\n",
    "\n",
    "for a in range(1, 1000):\n",
    "    for b in range(1, a//2 + 1):\n",
    "        c = math.sqrt(a**2 + b**2)\n",
    "        per = a + b + c\n",
    "        if c == c and per < 1001:\n",
    "            perimeters_list[per] = perimeters_list.get(per, 0) + 1\n",
    "\n",
    "alter_order_list = [(value, key) for key, value in perimeters_list.items()]\n",
    "\n",
    "print(max(alter_order_list)[1])"
   ]
  },
  {
   "cell_type": "code",
   "execution_count": null,
   "metadata": {},
   "outputs": [],
   "source": []
  },
  {
   "cell_type": "code",
   "execution_count": null,
   "metadata": {},
   "outputs": [],
   "source": []
  }
 ],
 "metadata": {
  "kernelspec": {
   "display_name": "Python 3",
   "language": "python",
   "name": "python3"
  },
  "language_info": {
   "codemirror_mode": {
    "name": "ipython",
    "version": 3
   },
   "file_extension": ".py",
   "mimetype": "text/x-python",
   "name": "python",
   "nbconvert_exporter": "python",
   "pygments_lexer": "ipython3",
   "version": "3.7.3"
  }
 },
 "nbformat": 4,
 "nbformat_minor": 2
}
