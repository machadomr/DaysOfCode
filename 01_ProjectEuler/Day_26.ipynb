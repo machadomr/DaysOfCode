{
 "cells": [
  {
   "cell_type": "markdown",
   "metadata": {},
   "source": [
    "# <center>Project Euler</center> \n"
   ]
  },
  {
   "cell_type": "markdown",
   "metadata": {},
   "source": [
    "## <span style=\"color: blue;\">Problem #56 </span>"
   ]
  },
  {
   "cell_type": "markdown",
   "metadata": {},
   "source": [
    "<p>A googol (10<sup>100</sup>) is a massive number: one followed by one-hundred zeros; 100<sup>100</sup> is almost unimaginably large: one followed by two-hundred zeros. Despite their size, the sum of the digits in each number is only 1.</p>\n",
    "<p>Considering natural numbers of the form, <i>a<sup>b</sup></i>, where <i>a, b</i> &lt; 100, what is the maximum digital sum?</p>"
   ]
  },
  {
   "cell_type": "code",
   "execution_count": 6,
   "metadata": {},
   "outputs": [
    {
     "name": "stdout",
     "output_type": "stream",
     "text": [
      "972\n"
     ]
    }
   ],
   "source": [
    "def powerful_digit_sum():\n",
    "    \n",
    "    solution = max(sum(int(i) for i in str(j**k))\n",
    "        for j in range(100) for k in range(100))\n",
    "    return str(solution)\n",
    "\n",
    "print(powerful_digit_sum())"
   ]
  },
  {
   "cell_type": "markdown",
   "metadata": {},
   "source": [
    "## <span style=\"color: blue;\">Problem #57 </span>"
   ]
  },
  {
   "cell_type": "markdown",
   "metadata": {},
   "source": [
    "<p>It is possible to show that the square root of two can be expressed as an infinite continued fraction.</p>\n",
    "<p class=\"center\">$\\sqrt 2 =1+ \\frac 1 {2+ \\frac 1 {2 +\\frac 1 {2+ \\dots}}}$</p>\n",
    "<p>By expanding this for the first four iterations, we get:</p>\n",
    "<p>$1 + \\frac 1 2 = \\frac  32 = 1.5$<br />\n",
    "$1 + \\frac 1 {2 + \\frac 1 2} = \\frac 7 5 = 1.4$<br />\n",
    "$1 + \\frac 1 {2 + \\frac 1 {2+\\frac 1 2}} = \\frac {17}{12} = 1.41666 \\dots$<br />\n",
    "$1 + \\frac 1 {2 + \\frac 1 {2+\\frac 1 {2+\\frac 1 2}}} = \\frac {41}{29} = 1.41379 \\dots$<br /></p>\n",
    "<p>The next three expansions are $\\frac {99}{70}$, $\\frac {239}{169}$, and $\\frac {577}{408}$, but the eighth expansion, $\\frac {1393}{985}$, is the first example where the number of digits in the numerator exceeds the number of digits in the denominator.</p>\n",
    "<p>In the first one-thousand expansions, how many fractions contain a numerator with more digits than the denominator?</p>"
   ]
  },
  {
   "cell_type": "code",
   "execution_count": 7,
   "metadata": {},
   "outputs": [
    {
     "name": "stdout",
     "output_type": "stream",
     "text": [
      "153\n"
     ]
    }
   ],
   "source": [
    "def squared_root_convergence():    \n",
    "    \n",
    "    solution = 0\n",
    "    denominator = 1\n",
    "    numerator = 0\n",
    "    upper_limit = 1000    \n",
    "    \n",
    "    for _ in range(upper_limit):\n",
    "        numerator, denominator = denominator, denominator*2+numerator\n",
    "        if len(str(numerator + denominator)) > len(str(denominator)):\n",
    "            solution += 1\n",
    "            \n",
    "    return str(solution)\n",
    "\n",
    "print(squared_root_convergence())"
   ]
  },
  {
   "cell_type": "code",
   "execution_count": null,
   "metadata": {},
   "outputs": [],
   "source": []
  },
  {
   "cell_type": "code",
   "execution_count": null,
   "metadata": {},
   "outputs": [],
   "source": []
  }
 ],
 "metadata": {
  "kernelspec": {
   "display_name": "Python 3",
   "language": "python",
   "name": "python3"
  },
  "language_info": {
   "codemirror_mode": {
    "name": "ipython",
    "version": 3
   },
   "file_extension": ".py",
   "mimetype": "text/x-python",
   "name": "python",
   "nbconvert_exporter": "python",
   "pygments_lexer": "ipython3",
   "version": "3.7.3"
  }
 },
 "nbformat": 4,
 "nbformat_minor": 2
}
