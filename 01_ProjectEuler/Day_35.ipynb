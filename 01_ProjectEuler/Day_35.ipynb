{
 "cells": [
  {
   "cell_type": "markdown",
   "metadata": {},
   "source": [
    "# <center>Project Euler</center> \n"
   ]
  },
  {
   "cell_type": "markdown",
   "metadata": {},
   "source": [
    "## <span style=\"color: blue;\">Problem #76 </span>"
   ]
  },
  {
   "cell_type": "markdown",
   "metadata": {},
   "source": [
    "<p>It is possible to write five as a sum in exactly six different ways:</p>\n",
    "<p class=\"margin_left\">4 + 1<br />\n",
    "3 + 2<br />\n",
    "3 + 1 + 1<br />\n",
    "2 + 2 + 1<br />\n",
    "2 + 1 + 1 + 1<br />\n",
    "1 + 1 + 1 + 1 + 1</p>\n",
    "<p>How many different ways can one hundred be written as a sum of at least two positive integers?</p>"
   ]
  },
  {
   "cell_type": "code",
   "execution_count": 1,
   "metadata": {},
   "outputs": [
    {
     "name": "stdout",
     "output_type": "stream",
     "text": [
      "190569291\n"
     ]
    }
   ],
   "source": [
    "def count_summation():\n",
    "    upper_limit = 100\n",
    "    list_of_parts = []\n",
    "    for i in range(upper_limit + 1):\n",
    "        list_of_parts.append([None] * (upper_limit + 1))\n",
    "        for j in reversed(range(upper_limit + 1)):\n",
    "            if j == i:\n",
    "                val = 1\n",
    "            elif j > i:\n",
    "                val = 0\n",
    "            elif j == 0:\n",
    "                val = list_of_parts[i][j + 1]\n",
    "            else:\n",
    "                val = list_of_parts[i][j + 1] + list_of_parts[i - j][j]\n",
    "            list_of_parts[i][j] = val\n",
    "\n",
    "    solution = list_of_parts[upper_limit][1] - 1\n",
    "    return str(solution)\n",
    "\n",
    "print(count_summation())"
   ]
  },
  {
   "cell_type": "markdown",
   "metadata": {},
   "source": [
    "## <span style=\"color: blue;\">Problem #77 </span>"
   ]
  },
  {
   "cell_type": "markdown",
   "metadata": {},
   "source": [
    "<p>It is possible to write ten as the sum of primes in exactly five different ways:</p>\n",
    "<p class=\"margin_left\">7 + 3<br />\n",
    "5 + 5<br />\n",
    "5 + 3 + 2<br />\n",
    "3 + 3 + 2 + 2<br />\n",
    "2 + 2 + 2 + 2 + 2</p>\n",
    "<p>What is the first value which can be written as the sum of primes in over five thousand different ways?</p>"
   ]
  },
  {
   "cell_type": "code",
   "execution_count": 2,
   "metadata": {},
   "outputs": [
    {
     "name": "stdout",
     "output_type": "stream",
     "text": [
      "71\n"
     ]
    }
   ],
   "source": [
    "import eulerlib, itertools\n",
    "\n",
    "primes_list = [2]\n",
    "\n",
    "def summation_way_of_primes(n):\n",
    "    for i in range(primes_list[-1] + 1, n + 1):\n",
    "        if eulerlib.is_prime(i):\n",
    "            primes_list.append(i)\n",
    "\n",
    "    ways_of_sum = [1] + [0] * n\n",
    "    for p in primes_list:\n",
    "        for i in range(n + 1 - p):\n",
    "            ways_of_sum[i + p] += ways_of_sum[i]\n",
    "    return ways_of_sum[n]\n",
    "\n",
    "def prime_summation():\n",
    "    condition = lambda n: summation_way_of_primes(n) > 5000\n",
    "    solution = next(filter(condition, itertools.count(2)))\n",
    "    return str(solution)\n",
    "\n",
    "print(prime_summation())"
   ]
  },
  {
   "cell_type": "code",
   "execution_count": null,
   "metadata": {},
   "outputs": [],
   "source": []
  }
 ],
 "metadata": {
  "kernelspec": {
   "display_name": "Python 3",
   "language": "python",
   "name": "python3"
  },
  "language_info": {
   "codemirror_mode": {
    "name": "ipython",
    "version": 3
   },
   "file_extension": ".py",
   "mimetype": "text/x-python",
   "name": "python",
   "nbconvert_exporter": "python",
   "pygments_lexer": "ipython3",
   "version": "3.7.3"
  }
 },
 "nbformat": 4,
 "nbformat_minor": 2
}
