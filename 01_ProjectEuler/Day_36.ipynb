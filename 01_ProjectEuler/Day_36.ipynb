{
 "cells": [
  {
   "cell_type": "markdown",
   "metadata": {},
   "source": [
    "# <center>Project Euler</center> \n"
   ]
  },
  {
   "cell_type": "code",
   "execution_count": 1,
   "metadata": {},
   "outputs": [],
   "source": [
    "import math"
   ]
  },
  {
   "cell_type": "markdown",
   "metadata": {},
   "source": [
    "## <span style=\"color: blue;\">Problem #85 </span>"
   ]
  },
  {
   "cell_type": "markdown",
   "metadata": {},
   "source": [
    "<p>By counting carefully it can be seen that a rectangular grid measuring 3 by 2 contains eighteen rectangles:</p>\n",
    "<div class=\"center\">\n",
    "<img src=\"project/images/p085.png\" class=\"dark_img\" alt=\"\" /></div>\n",
    "<p>Although there exists no rectangular grid that contains exactly two million rectangles, find the area of the grid with the nearest solution.</p>"
   ]
  },
  {
   "cell_type": "code",
   "execution_count": 2,
   "metadata": {},
   "outputs": [
    {
     "name": "stdout",
     "output_type": "stream",
     "text": [
      "2772\n"
     ]
    }
   ],
   "source": [
    "def counting_rectangles(a, b):\n",
    "    return (a + 1)*a*(b + 1)*b//4  \n",
    "\n",
    "def rectangles():\n",
    "    upper_limit = 2000000\n",
    "    end_limit = int(math.sqrt(upper_limit)) + 1\n",
    "    generating_rec = ((i, j) for i in range(1, end_limit) for j in range(1, end_limit))\n",
    "    function_lambda = lambda ij: abs(counting_rectangles(*ij) - upper_limit)\n",
    "    solution = min(generating_rec, key=function_lambda)\n",
    "    return str(solution[0] * solution[1])\n",
    "\n",
    "print(rectangles())"
   ]
  },
  {
   "cell_type": "code",
   "execution_count": null,
   "metadata": {},
   "outputs": [],
   "source": []
  }
 ],
 "metadata": {
  "kernelspec": {
   "display_name": "Python 3",
   "language": "python",
   "name": "python3"
  },
  "language_info": {
   "codemirror_mode": {
    "name": "ipython",
    "version": 3
   },
   "file_extension": ".py",
   "mimetype": "text/x-python",
   "name": "python",
   "nbconvert_exporter": "python",
   "pygments_lexer": "ipython3",
   "version": "3.7.3"
  }
 },
 "nbformat": 4,
 "nbformat_minor": 2
}
