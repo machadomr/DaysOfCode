{
 "cells": [
  {
   "cell_type": "markdown",
   "metadata": {},
   "source": [
    "# <center>Project Euler</center> \n"
   ]
  },
  {
   "cell_type": "code",
   "execution_count": 1,
   "metadata": {},
   "outputs": [],
   "source": [
    "import math\n",
    "import eulerlib"
   ]
  },
  {
   "cell_type": "markdown",
   "metadata": {},
   "source": [
    "## <span style=\"color: blue;\">Problem #91 </span>"
   ]
  },
  {
   "cell_type": "markdown",
   "metadata": {},
   "source": [
    "<p>The points P (<i>x</i><sub>1</sub>, <i>y</i><sub>1</sub>) and Q (<i>x</i><sub>2</sub>, <i>y</i><sub>2</sub>) are plotted at integer co-ordinates and are joined to the origin, O(0,0), to form ΔOPQ.</p>\n",
    "\n",
    "<div class=\"center\">\n",
    "<img src=\"project/images/p091_1.png\" class=\"dark_img\" alt=\"\" /><br /></div>\n",
    "\n",
    "<p>There are exactly fourteen triangles containing a right angle that can be formed when each co-ordinate lies between 0 and 2 inclusive; that is,<br />0 ≤ <i>x</i><sub>1</sub>, <i>y</i><sub>1</sub>, <i>x</i><sub>2</sub>, <i>y</i><sub>2</sub> ≤ 2.</p>\n",
    "\n",
    "<div class=\"center\">\n",
    "<img src=\"project/images/p091_2.png\" alt=\"\" /><br /></div>\n",
    "\n",
    "<p>Given that 0 ≤ <i>x</i><sub>1</sub>, <i>y</i><sub>1</sub>, <i>x</i><sub>2</sub>, <i>y</i><sub>2</sub> ≤ 50, how many right triangles can be formed?</p>"
   ]
  },
  {
   "cell_type": "code",
   "execution_count": 2,
   "metadata": {},
   "outputs": [
    {
     "name": "stdout",
     "output_type": "stream",
     "text": [
      "14234\n"
     ]
    }
   ],
   "source": [
    "# To verify if three points from a right triangle\n",
    "def checking_right_triangle(x_1, y_1, x_2, y_2):\n",
    "    i = x_1**2 + y_1**2\n",
    "    j = x_2**2 + y_2**2\n",
    "    k = (x_2 - x_1)**2 + (y_2 - y_1)**2\n",
    "    return (i + j == k) or (j + k == i) or (k + i == j)\n",
    "\n",
    "def right_triables():\n",
    "    maximum_limit = 51\n",
    "    solution = sum(1\n",
    "        for x_1 in range(maximum_limit)\n",
    "        for y_1 in range(maximum_limit)\n",
    "        for x_2 in range(maximum_limit)\n",
    "        for y_2 in range(maximum_limit)\n",
    "        if y_2 * x_1 < y_1 * x_2 and checking_right_triangle(x_1, y_1, x_2, y_2))\n",
    "    return str(solution)\n",
    "\n",
    "print(right_triables())"
   ]
  },
  {
   "cell_type": "code",
   "execution_count": null,
   "metadata": {},
   "outputs": [],
   "source": []
  }
 ],
 "metadata": {
  "kernelspec": {
   "display_name": "Python 3",
   "language": "python",
   "name": "python3"
  },
  "language_info": {
   "codemirror_mode": {
    "name": "ipython",
    "version": 3
   },
   "file_extension": ".py",
   "mimetype": "text/x-python",
   "name": "python",
   "nbconvert_exporter": "python",
   "pygments_lexer": "ipython3",
   "version": "3.7.3"
  }
 },
 "nbformat": 4,
 "nbformat_minor": 2
}
