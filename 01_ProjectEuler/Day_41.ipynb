{
 "cells": [
  {
   "cell_type": "markdown",
   "metadata": {},
   "source": [
    "# <center>Project Euler</center> \n"
   ]
  },
  {
   "cell_type": "code",
   "execution_count": 8,
   "metadata": {},
   "outputs": [],
   "source": [
    "import math\n",
    "import eulerlib\n",
    "import itertools"
   ]
  },
  {
   "cell_type": "markdown",
   "metadata": {},
   "source": [
    "## <span style=\"color: blue;\">Problem #95 </span>"
   ]
  },
  {
   "cell_type": "markdown",
   "metadata": {},
   "source": [
    "<p>The proper divisors of a number are all the divisors excluding the number itself. For example, the proper divisors of 28 are 1, 2, 4, 7, and 14. As the sum of these divisors is equal to 28, we call it a perfect number.</p>\n",
    "<p>Interestingly the sum of the proper divisors of 220 is 284 and the sum of the proper divisors of 284 is 220, forming a chain of two numbers. For this reason, 220 and 284 are called an amicable pair.</p>\n",
    "<p>Perhaps less well known are longer chains. For example, starting with 12496, we form a chain of five numbers:</p>\n",
    "<p class=\"center\">12496 → 14288 → 15472 → 14536 → 14264 (→ 12496 → ...)</p>\n",
    "<p>Since this chain returns to its starting point, it is called an amicable chain.</p>\n",
    "<p>Find the smallest member of the longest amicable chain with no element exceeding one million.</p>"
   ]
  },
  {
   "cell_type": "code",
   "execution_count": 9,
   "metadata": {},
   "outputs": [
    {
     "name": "stdout",
     "output_type": "stream",
     "text": [
      "14316\n"
     ]
    }
   ],
   "source": [
    "def amicable_chains():\n",
    "    upper_limit = 10**6\n",
    "    length_max_chain = 0\n",
    "    solution = -1\n",
    "    \n",
    "    # calculating the summation of all divisors of n:\n",
    "    summation_of_divisors = [0] * (upper_limit + 1)\n",
    "    for i in range(1, upper_limit + 1):\n",
    "        for j in range(i * 2, upper_limit + 1, i):\n",
    "            summation_of_divisors[j] += i\n",
    "\n",
    "    # Checking for the amicable length:\n",
    "    for i in range(upper_limit + 1):\n",
    "        current = i\n",
    "        visited = set()        \n",
    "        for count in itertools.count(1):\n",
    "            visited.add(current)\n",
    "            next = summation_of_divisors[current]\n",
    "            if next == i:\n",
    "                if count > length_max_chain:\n",
    "                    solution = i\n",
    "                    length_max_chain = count\n",
    "                break\n",
    "            elif next > upper_limit or next in visited:\n",
    "                break\n",
    "            else:\n",
    "                current = next\n",
    "    \n",
    "    return str(solution)\n",
    "\n",
    "print(amicable_chains())"
   ]
  },
  {
   "cell_type": "code",
   "execution_count": null,
   "metadata": {},
   "outputs": [],
   "source": []
  }
 ],
 "metadata": {
  "kernelspec": {
   "display_name": "Python 3",
   "language": "python",
   "name": "python3"
  },
  "language_info": {
   "codemirror_mode": {
    "name": "ipython",
    "version": 3
   },
   "file_extension": ".py",
   "mimetype": "text/x-python",
   "name": "python",
   "nbconvert_exporter": "python",
   "pygments_lexer": "ipython3",
   "version": "3.7.3"
  }
 },
 "nbformat": 4,
 "nbformat_minor": 2
}
