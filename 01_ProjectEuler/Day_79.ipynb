{
 "cells": [
  {
   "cell_type": "markdown",
   "id": "broadband-yahoo",
   "metadata": {},
   "source": [
    "# <center>Project Euler</center> \n"
   ]
  },
  {
   "cell_type": "code",
   "execution_count": 1,
   "id": "unexpected-anatomy",
   "metadata": {},
   "outputs": [],
   "source": [
    "import math\n",
    "import eulerlib\n",
    "import itertools"
   ]
  },
  {
   "cell_type": "markdown",
   "id": "understood-reader",
   "metadata": {},
   "source": [
    "## <span style=\"color: blue;\">Problem #187 </span>"
   ]
  },
  {
   "cell_type": "markdown",
   "id": "opening-kingston",
   "metadata": {},
   "source": [
    "<p>A composite is a number containing at least two prime factors. For example, 15 = 3 × 5; 9 = 3 × 3; 12 = 2 × 2 × 3.</p>\n",
    "\n",
    "<p>There are ten composites below thirty containing precisely two, not necessarily distinct, prime factors:\n",
    "4, 6, 9, 10, 14, 15, 21, 22, 25, 26.</p>\n",
    "\n",
    "<p>How many composite integers, <var>n</var> &lt; 10<sup>8</sup>, have precisely two, not necessarily distinct, prime factors?</p>"
   ]
  },
  {
   "cell_type": "code",
   "execution_count": 7,
   "id": "settled-layout",
   "metadata": {},
   "outputs": [
    {
     "name": "stdout",
     "output_type": "stream",
     "text": [
      "17427258\n"
     ]
    }
   ],
   "source": [
    "from sympy import primerange, primepi\n",
    "\n",
    "\n",
    "def compute(n=10**8):\n",
    "    i =  0\n",
    "    j = int(n**0.5)\n",
    "    primes = primerange(1, j+1)\n",
    "    for l, k in enumerate(primes):\n",
    "        i += primepi((n-1) // k) - l\n",
    "    return i\n",
    "    \n",
    "    \n",
    "print(compute())"
   ]
  },
  {
   "cell_type": "code",
   "execution_count": null,
   "id": "sound-cruise",
   "metadata": {},
   "outputs": [],
   "source": []
  }
 ],
 "metadata": {
  "kernelspec": {
   "display_name": "Python 3",
   "language": "python",
   "name": "python3"
  },
  "language_info": {
   "codemirror_mode": {
    "name": "ipython",
    "version": 3
   },
   "file_extension": ".py",
   "mimetype": "text/x-python",
   "name": "python",
   "nbconvert_exporter": "python",
   "pygments_lexer": "ipython3",
   "version": "3.7.3"
  }
 },
 "nbformat": 4,
 "nbformat_minor": 5
}
