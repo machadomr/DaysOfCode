{
 "cells": [
  {
   "cell_type": "markdown",
   "id": "informational-carroll",
   "metadata": {},
   "source": [
    "# <center>Project Euler</center> "
   ]
  },
  {
   "cell_type": "code",
   "execution_count": 1,
   "id": "novel-pottery",
   "metadata": {},
   "outputs": [],
   "source": [
    "import math\n",
    "import eulerlib\n",
    "import itertools"
   ]
  },
  {
   "cell_type": "markdown",
   "id": "embedded-education",
   "metadata": {},
   "source": [
    "## <span style=\"color: blue;\">Problem #203 </span>"
   ]
  },
  {
   "cell_type": "markdown",
   "id": "eleven-courtesy",
   "metadata": {},
   "source": [
    "<p>The binomial coefficients $\\displaystyle \\binom n k$ can be arranged in triangular form, Pascal's triangle, like this:</p>\n",
    "\n",
    "<div class=\"center\">\n",
    "<table align=\"center\"><tr><td colspan=\"7\"></td><td>1</td><td colspan=\"7\"></td></tr><tr><td colspan=\"6\"></td><td>1</td><td></td><td>1</td><td colspan=\"6\"></td></tr><tr><td colspan=\"5\"></td><td>1</td><td></td><td>2</td><td></td><td>1</td><td colspan=\"5\"></td></tr><tr><td colspan=\"4\"></td><td>1</td><td></td><td>3</td><td></td><td>3</td><td></td><td>1</td><td colspan=\"4\"></td></tr><tr><td colspan=\"3\"></td><td>1</td><td></td><td>4</td><td></td><td>6</td><td></td><td>4</td><td></td><td>1</td><td colspan=\"3\"></td></tr><tr><td colspan=\"2\"></td><td>1</td><td></td><td>5</td><td></td><td>10</td><td></td><td>10</td><td></td><td>5</td><td></td><td>1</td><td colspan=\"2\"></td></tr><tr><td colspan=\"1\"></td><td>1</td><td></td><td>6</td><td></td><td>15</td><td></td><td>20</td><td></td><td>15</td><td></td><td>6</td><td></td><td>1</td><td colspan=\"1\"></td></tr><tr><td>1</td><td></td><td>7</td><td></td><td>21</td><td></td><td>35</td><td></td><td>35</td><td></td><td>21</td><td></td><td>7</td><td></td><td>1</td></tr></table>\n",
    ".........\n",
    "</div>\n",
    "\n",
    "<p>It can be seen that the first eight rows of Pascal's triangle contain twelve distinct numbers: 1, 2, 3, 4, 5, 6, 7, 10, 15, 20, 21 and 35.</p>\n",
    "\n",
    "<p>A positive integer <var>n</var> is called squarefree if no square of a prime divides <var>n</var>.\n",
    "Of the twelve distinct numbers in the first eight rows of Pascal's triangle, all except 4 and 20 are squarefree.\n",
    "The sum of the distinct squarefree numbers in the first eight rows is 105.</p>\n",
    "\n",
    "<p>Find the sum of the distinct squarefree numbers in the first 51 rows of Pascal's triangle.</p>"
   ]
  },
  {
   "cell_type": "code",
   "execution_count": 8,
   "id": "opponent-trout",
   "metadata": {},
   "outputs": [
    {
     "name": "stdout",
     "output_type": "stream",
     "text": [
      "34029210557338\n"
     ]
    }
   ],
   "source": [
    "def compute(n=51):\n",
    "    \n",
    "    pascal_triangle = [1,1]\n",
    "    residuals = set()\n",
    "    power_2 = [4,9,25,49]\n",
    "    \n",
    "    for i in range(n-2):\n",
    "        pascal_triangle = [j+k for j,k in zip(pascal_triangle+[0],[0]+pascal_triangle)]\n",
    "        \n",
    "        for comb in pascal_triangle[:(i+3)//2+2]:\n",
    "            if all([comb%l for l in power_2]) != 0:\n",
    "                residuals.add(comb)\n",
    "                \n",
    "    return sum(residuals)\n",
    "\n",
    "print(compute())"
   ]
  },
  {
   "cell_type": "code",
   "execution_count": null,
   "id": "golden-willow",
   "metadata": {},
   "outputs": [],
   "source": []
  },
  {
   "cell_type": "code",
   "execution_count": null,
   "id": "tough-liquid",
   "metadata": {},
   "outputs": [],
   "source": []
  }
 ],
 "metadata": {
  "kernelspec": {
   "display_name": "Python 3",
   "language": "python",
   "name": "python3"
  },
  "language_info": {
   "codemirror_mode": {
    "name": "ipython",
    "version": 3
   },
   "file_extension": ".py",
   "mimetype": "text/x-python",
   "name": "python",
   "nbconvert_exporter": "python",
   "pygments_lexer": "ipython3",
   "version": "3.7.3"
  }
 },
 "nbformat": 4,
 "nbformat_minor": 5
}
