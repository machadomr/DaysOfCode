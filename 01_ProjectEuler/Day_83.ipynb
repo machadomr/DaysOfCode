{
 "cells": [
  {
   "cell_type": "markdown",
   "id": "protective-concept",
   "metadata": {},
   "source": [
    "# <center>Project Euler</center> "
   ]
  },
  {
   "cell_type": "code",
   "execution_count": 1,
   "id": "direct-radio",
   "metadata": {},
   "outputs": [],
   "source": [
    "import math\n",
    "from itertools import product\n",
    "from collections import Counter"
   ]
  },
  {
   "cell_type": "markdown",
   "id": "judicial-grounds",
   "metadata": {},
   "source": [
    "## <span style=\"color: blue;\">Problem #205 </span>"
   ]
  },
  {
   "cell_type": "markdown",
   "id": "young-immigration",
   "metadata": {},
   "source": [
    "<p>Peter has nine four-sided (pyramidal) dice, each with faces numbered 1, 2, 3, 4.<br />\n",
    "Colin has six six-sided (cubic) dice, each with faces numbered 1, 2, 3, 4, 5, 6.</p>\n",
    "\n",
    "<p>Peter and Colin roll their dice and compare totals: the highest total wins. The result is a draw if the totals are equal.</p>\n",
    "\n",
    "<p>What is the probability that Pyramidal Pete beats Cubic Colin? Give your answer rounded to seven decimal places in the form 0.abcdefg</p>"
   ]
  },
  {
   "cell_type": "code",
   "execution_count": 3,
   "id": "formal-celtic",
   "metadata": {},
   "outputs": [
    {
     "name": "stdout",
     "output_type": "stream",
     "text": [
      "0.5731441\n"
     ]
    }
   ],
   "source": [
    "# s --> sides\n",
    "# n --> number\n",
    "\n",
    "def dice_values_summation(s,n):\n",
    "    arrange = product(range(1,s+1),repeat=n)\n",
    "    sum_total = [sum(x) for x in arrange]\n",
    "    counter = Counter(sum_total)\n",
    "    return dict(counter)\n",
    "\n",
    "def main():\n",
    "    beats = 0\n",
    "    total = (4**9) * (6**6)\n",
    "    pw = dice_values_summation(4,9)\n",
    "    cw = dice_values_summation(6,6)\n",
    "    for k1,v1 in pw.items():\n",
    "        for k2,v2 in cw.items():\n",
    "            if k1 > k2:\n",
    "                beats += (v1*v2)\n",
    "    return round(beats/total,7)\n",
    "\n",
    "print(main())"
   ]
  },
  {
   "cell_type": "code",
   "execution_count": null,
   "id": "realistic-labor",
   "metadata": {},
   "outputs": [],
   "source": []
  },
  {
   "cell_type": "code",
   "execution_count": null,
   "id": "surgical-singing",
   "metadata": {},
   "outputs": [],
   "source": []
  }
 ],
 "metadata": {
  "kernelspec": {
   "display_name": "Python 3",
   "language": "python",
   "name": "python3"
  },
  "language_info": {
   "codemirror_mode": {
    "name": "ipython",
    "version": 3
   },
   "file_extension": ".py",
   "mimetype": "text/x-python",
   "name": "python",
   "nbconvert_exporter": "python",
   "pygments_lexer": "ipython3",
   "version": "3.7.3"
  }
 },
 "nbformat": 4,
 "nbformat_minor": 5
}
