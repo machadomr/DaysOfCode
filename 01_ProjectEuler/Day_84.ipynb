{
 "cells": [
  {
   "cell_type": "markdown",
   "id": "municipal-symposium",
   "metadata": {},
   "source": [
    "# <center>Project Euler</center> "
   ]
  },
  {
   "cell_type": "code",
   "execution_count": 13,
   "id": "prescription-corporation",
   "metadata": {},
   "outputs": [],
   "source": [
    "import math\n",
    "from itertools import product\n",
    "from collections import Counter"
   ]
  },
  {
   "cell_type": "markdown",
   "id": "opposed-freight",
   "metadata": {},
   "source": [
    "## <span style=\"color: blue;\">Problem #684 </span>"
   ]
  },
  {
   "cell_type": "markdown",
   "id": "comparable-ordinance",
   "metadata": {},
   "source": [
    "<p>Define $s(n)$ to be the smallest number that has a digit sum of $n$. For example $s(10) = 19$.<br />\n",
    "Let $\\displaystyle S(k) = \\sum_{n=1}^k s(n)$. You are given $S(20) = 1074$.</p>\n",
    "<p>\n",
    "Further let $f_i$ be the Fibonacci sequence defined by $f_0=0, f_1=1$ and $f_i=f_{i-2}+f_{i-1}$ for all $i \\ge 2$.</p>\n",
    "<p>\n",
    "Find $\\displaystyle \\sum_{i=2}^{90} S(f_i)$. Give your answer modulo $1\\,000\\,000\\,007$.</p>"
   ]
  },
  {
   "cell_type": "code",
   "execution_count": 14,
   "id": "reserved-foundation",
   "metadata": {},
   "outputs": [
    {
     "name": "stdout",
     "output_type": "stream",
     "text": [
      "922058210\n"
     ]
    }
   ],
   "source": [
    "def summation(k,r,m=10**9+7):\n",
    "    residuals = ((r+1)*(r+2)//2+5)*pow(10,k,m)-9*k-6-r\n",
    "    return residuals\n",
    "\n",
    "def main(n=90):\n",
    "    fibon = [0,1]\n",
    "    for _ in range(n-1):\n",
    "        fibon.append(sum(fibon[-2:]))\n",
    "    residuals = [summation(*divmod(fibon[i],9)) for i in range(2,n+1)]\n",
    "    return sum(residuals)%(10**9+7)\n",
    "\n",
    "print(main())"
   ]
  },
  {
   "cell_type": "code",
   "execution_count": null,
   "id": "constitutional-reservoir",
   "metadata": {},
   "outputs": [],
   "source": []
  },
  {
   "cell_type": "code",
   "execution_count": null,
   "id": "wicked-catalog",
   "metadata": {},
   "outputs": [],
   "source": []
  }
 ],
 "metadata": {
  "kernelspec": {
   "display_name": "Python 3",
   "language": "python",
   "name": "python3"
  },
  "language_info": {
   "codemirror_mode": {
    "name": "ipython",
    "version": 3
   },
   "file_extension": ".py",
   "mimetype": "text/x-python",
   "name": "python",
   "nbconvert_exporter": "python",
   "pygments_lexer": "ipython3",
   "version": "3.7.3"
  }
 },
 "nbformat": 4,
 "nbformat_minor": 5
}
