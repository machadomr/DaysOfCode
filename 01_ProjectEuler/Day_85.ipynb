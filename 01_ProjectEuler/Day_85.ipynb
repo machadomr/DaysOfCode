{
 "cells": [
  {
   "cell_type": "markdown",
   "id": "athletic-twist",
   "metadata": {},
   "source": [
    "# <center>Project Euler</center> "
   ]
  },
  {
   "cell_type": "code",
   "execution_count": 13,
   "id": "whole-rider",
   "metadata": {},
   "outputs": [],
   "source": [
    "import math\n",
    "from itertools import product\n",
    "from collections import Counter"
   ]
  },
  {
   "cell_type": "markdown",
   "id": "clear-angola",
   "metadata": {},
   "source": [
    "## <span style=\"color: blue;\">Problem #686 </span>"
   ]
  },
  {
   "cell_type": "markdown",
   "id": "functional-technician",
   "metadata": {},
   "source": [
    "<p>$2^7=128$ is the first power of two whose leading digits are \"12\".<br />\n",
    "The next power of two whose leading digits are \"12\" is $2^{80}$.</p>\n",
    "\n",
    "<p>Define $p(L, n)$ to be the $n$th-smallest value of $j$ such that the base 10 representation of $2^j$ begins with the digits of $L$.<br />\n",
    "So $p(12, 1) = 7$ and $p(12, 2) = 80$.</p>\n",
    "\n",
    "<p>You are also given that $p(123, 45) = 12710$.</p>\n",
    "\n",
    "<p>Find $p(123, 678910)$.</p>"
   ]
  },
  {
   "cell_type": "code",
   "execution_count": 5,
   "id": "composite-brief",
   "metadata": {},
   "outputs": [
    {
     "name": "stdout",
     "output_type": "stream",
     "text": [
      "193060223\n"
     ]
    }
   ],
   "source": [
    "from numba import njit\n",
    "\n",
    "@njit\n",
    "def compute(obj=123,N=678910):\n",
    "    n, p, k = 0,2,1\n",
    "    while n < N:\n",
    "        p = p * 2\n",
    "        while p >= 10**3:\n",
    "            p = p / 10.0\n",
    "        if int(p) == obj:\n",
    "            n = n + 1\n",
    "        k = k + 1\n",
    "    return k\n",
    "\n",
    "print(compute())"
   ]
  },
  {
   "cell_type": "code",
   "execution_count": null,
   "id": "environmental-control",
   "metadata": {},
   "outputs": [],
   "source": []
  },
  {
   "cell_type": "code",
   "execution_count": null,
   "id": "reduced-conducting",
   "metadata": {},
   "outputs": [],
   "source": []
  }
 ],
 "metadata": {
  "kernelspec": {
   "display_name": "Python 3",
   "language": "python",
   "name": "python3"
  },
  "language_info": {
   "codemirror_mode": {
    "name": "ipython",
    "version": 3
   },
   "file_extension": ".py",
   "mimetype": "text/x-python",
   "name": "python",
   "nbconvert_exporter": "python",
   "pygments_lexer": "ipython3",
   "version": "3.7.3"
  }
 },
 "nbformat": 4,
 "nbformat_minor": 5
}
