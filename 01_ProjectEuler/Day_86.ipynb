{
 "cells": [
  {
   "cell_type": "markdown",
   "id": "severe-genome",
   "metadata": {},
   "source": [
    "# <center>Project Euler</center> "
   ]
  },
  {
   "cell_type": "code",
   "execution_count": 2,
   "id": "skilled-battery",
   "metadata": {},
   "outputs": [],
   "source": [
    "import math\n",
    "from itertools import product\n",
    "from collections import Counter"
   ]
  },
  {
   "cell_type": "markdown",
   "id": "burning-transsexual",
   "metadata": {},
   "source": [
    "## <span style=\"color: blue;\">Problem #700 </span>"
   ]
  },
  {
   "cell_type": "markdown",
   "id": "facial-interim",
   "metadata": {},
   "source": [
    "<p>Leonhard Euler was born on 15 April 1707.</p>\n",
    "\n",
    "<p>Consider the sequence 1504170715041707<var>n</var> mod 4503599627370517.</p>\n",
    "\n",
    "<p>An element of this sequence is defined to be an Eulercoin if it is strictly smaller than all previously found Eulercoins.</p>\n",
    "\n",
    "<p>For example, the first term is 1504170715041707 which is the first Eulercoin.  The second term is 3008341430083414 which is greater than 1504170715041707 so is not an Eulercoin.  However, the third term is 8912517754604 which is small enough to be a new Eulercoin.</p>\n",
    "\n",
    "<p>The sum of the first 2 Eulercoins is therefore 1513083232796311.</p>\n",
    "\n",
    "<p>Find the sum of all Eulercoins.</p>\n"
   ]
  },
  {
   "cell_type": "code",
   "execution_count": 3,
   "id": "irish-pilot",
   "metadata": {},
   "outputs": [
    {
     "name": "stdout",
     "output_type": "stream",
     "text": [
      "1517926517777556\n"
     ]
    }
   ],
   "source": [
    "def compute():\n",
    "    i = 1504170715041707\n",
    "    j = 8912517754604\n",
    "    residual = i + j\n",
    "    while j > 0:\n",
    "        i,j = j,(-i)%j\n",
    "        residual += j\n",
    "    return residual\n",
    "\n",
    "print(compute())"
   ]
  },
  {
   "cell_type": "code",
   "execution_count": null,
   "id": "emotional-warrior",
   "metadata": {},
   "outputs": [],
   "source": []
  },
  {
   "cell_type": "code",
   "execution_count": null,
   "id": "portable-passage",
   "metadata": {},
   "outputs": [],
   "source": []
  }
 ],
 "metadata": {
  "kernelspec": {
   "display_name": "Python 3",
   "language": "python",
   "name": "python3"
  },
  "language_info": {
   "codemirror_mode": {
    "name": "ipython",
    "version": 3
   },
   "file_extension": ".py",
   "mimetype": "text/x-python",
   "name": "python",
   "nbconvert_exporter": "python",
   "pygments_lexer": "ipython3",
   "version": "3.7.3"
  }
 },
 "nbformat": 4,
 "nbformat_minor": 5
}
