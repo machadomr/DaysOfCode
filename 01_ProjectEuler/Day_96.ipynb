{
 "cells": [
  {
   "cell_type": "markdown",
   "id": "maritime-division",
   "metadata": {},
   "source": [
    "# <center>Project Euler</center> "
   ]
  },
  {
   "cell_type": "code",
   "execution_count": 1,
   "id": "vulnerable-welding",
   "metadata": {},
   "outputs": [],
   "source": [
    "import math\n",
    "from itertools import product\n",
    "from collections import Counter"
   ]
  },
  {
   "cell_type": "markdown",
   "id": "abandoned-exclusive",
   "metadata": {},
   "source": [
    "## <span style=\"color: blue;\">Problem #120 </span>"
   ]
  },
  {
   "cell_type": "markdown",
   "id": "patient-laugh",
   "metadata": {},
   "source": [
    "<p>Let <i>r</i> be the remainder when (<i>a</i>−1)<sup><i>n</i></sup> + (<i>a</i>+1)<sup><i>n</i></sup> is divided by <i>a</i><sup>2</sup>.</p>\n",
    "<p>For example, if <i>a</i> = 7 and <i>n</i> = 3, then <i>r</i> = 42: 6<sup>3</sup> + 8<sup>3</sup> = 728 ≡ 42 mod 49. And as <i>n</i> varies, so too will <i>r</i>, but for <i>a</i> = 7 it turns out that <i>r</i><sub>max</sub> = 42.</p>\n",
    "<p>For 3 ≤ <i>a</i> ≤ 1000, find <span style=\"font-family:'times new roman';font-size:13pt;\">∑</span> <i>r</i><sub>max</sub>.</p>\n"
   ]
  },
  {
   "cell_type": "code",
   "execution_count": 2,
   "id": "other-words",
   "metadata": {},
   "outputs": [
    {
     "name": "stdout",
     "output_type": "stream",
     "text": [
      "333082500\n"
     ]
    }
   ],
   "source": [
    "def main():\n",
    "    solution = sum(i * (i - (2 if i % 2 == 0 else 1)) for i in range(3, 1001))\n",
    "    return str(solution)\n",
    "\n",
    "print(main())"
   ]
  },
  {
   "cell_type": "markdown",
   "id": "patient-amount",
   "metadata": {},
   "source": [
    "## <span style=\"color: blue;\">Problem #121 </span>"
   ]
  },
  {
   "cell_type": "markdown",
   "id": "protecting-calculator",
   "metadata": {},
   "source": [
    "<p>A bag contains one red disc and one blue disc. In a game of chance a player takes a disc at random and its colour is noted. After each turn the disc is returned to the bag, an extra red disc is added, and another disc is taken at random.</p>\n",
    "<p>The player pays £1 to play and wins if they have taken more blue discs than red discs at the end of the game.</p>\n",
    "<p>If the game is played for four turns, the probability of a player winning is exactly 11/120, and so the maximum prize fund the banker should allocate for winning in this game would be £10 before they would expect to incur a loss. Note that any payout will be a whole number of pounds and also includes the original £1 paid to play the game, so in the example given the player actually wins £9.</p>\n",
    "<p>Find the maximum prize fund that should be allocated to a single game in which fifteen turns are played.</p>\n"
   ]
  },
  {
   "cell_type": "code",
   "execution_count": 3,
   "id": "trying-client",
   "metadata": {},
   "outputs": [
    {
     "name": "stdout",
     "output_type": "stream",
     "text": [
      "2269\n"
     ]
    }
   ],
   "source": [
    "def main():\n",
    "    tentatives = 15\n",
    "    forms = [[1]]\n",
    "    for i in range(1, tentatives + 1):\n",
    "        row = []\n",
    "        for j in range(i + 1):\n",
    "            temp = 0\n",
    "            if j < i:\n",
    "                temp = forms[i - 1][j] * i\n",
    "            if j > 0:\n",
    "                temp += forms[i - 1][j - 1]\n",
    "            row.append(temp)\n",
    "        forms.append(row)\n",
    "\n",
    "    numerator = sum(forms[tentatives][i] for i in range(tentatives // 2 + 1, tentatives + 1))\n",
    "    denominator = math.factorial(tentatives + 1)\n",
    "    return str(denominator // numerator)\n",
    "\n",
    "print(main())"
   ]
  },
  {
   "cell_type": "code",
   "execution_count": null,
   "id": "miniature-deployment",
   "metadata": {},
   "outputs": [],
   "source": []
  },
  {
   "cell_type": "code",
   "execution_count": null,
   "id": "impaired-reporter",
   "metadata": {},
   "outputs": [],
   "source": []
  }
 ],
 "metadata": {
  "kernelspec": {
   "display_name": "Python 3",
   "language": "python",
   "name": "python3"
  },
  "language_info": {
   "codemirror_mode": {
    "name": "ipython",
    "version": 3
   },
   "file_extension": ".py",
   "mimetype": "text/x-python",
   "name": "python",
   "nbconvert_exporter": "python",
   "pygments_lexer": "ipython3",
   "version": "3.7.3"
  }
 },
 "nbformat": 4,
 "nbformat_minor": 5
}
