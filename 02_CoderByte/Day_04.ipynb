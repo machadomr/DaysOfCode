{
 "cells": [
  {
   "cell_type": "markdown",
   "metadata": {},
   "source": [
    "# <center>Coder Byte</center> \n"
   ]
  },
  {
   "cell_type": "markdown",
   "metadata": {},
   "source": [
    "## <span style=\"color: blue;\">Problem #1 - Alphabet Soup </span>"
   ]
  },
  {
   "cell_type": "markdown",
   "metadata": {},
   "source": [
    "### Have the function AlphabetSoup(str) take the str string parameter being passed and return the string with the letters in alphabetical order (ie. hello becomes ehllo). Assume numbers and punctuation symbols will not be included in the string. \n",
    "### Use the Parameter Testing feature in the box below to test your code with different arguments."
   ]
  },
  {
   "cell_type": "code",
   "execution_count": 1,
   "metadata": {},
   "outputs": [
    {
     "name": "stdout",
     "output_type": "stream",
     "text": [
      " dehllloorw\n"
     ]
    }
   ],
   "source": [
    "# Using a string as input, this function will list the caracteres in alphabetical order!\n",
    "def AlphabetSoup(str): \n",
    "    str = \"\".join(sorted(str))\n",
    "    return str\n",
    "\n",
    "# Lets test/print hello world below!\n",
    "print (AlphabetSoup('hello world'))"
   ]
  },
  {
   "cell_type": "markdown",
   "metadata": {},
   "source": [
    "## <span style=\"color: blue;\">Problem #2 - inequality </span>"
   ]
  },
  {
   "cell_type": "markdown",
   "metadata": {},
   "source": [
    "### Have the function CheckNums(num1,num2) take both parameters being passed and return the string true if num2 is greater than num1, otherwise return the string false. If the parameter values are equal to each other then return the string -1. \n",
    "### Use the Parameter Testing feature in the box below to test your code with different arguments."
   ]
  },
  {
   "cell_type": "code",
   "execution_count": 2,
   "metadata": {},
   "outputs": [
    {
     "name": "stdout",
     "output_type": "stream",
     "text": [
      "True\n",
      "False\n",
      "-1\n"
     ]
    }
   ],
   "source": [
    "# This function will check inequality between 2 different algatihms!\n",
    "def CheckNums(num1,num2): \n",
    "    if num2 > num1:\n",
    "        return 'True'\n",
    "    elif num2 < num1:\n",
    "        return 'False'\n",
    "    else:\n",
    "        return '-1'\n",
    "    \n",
    "# If the second entry is greater than the first, expected anwer is TRUE!  \n",
    "print (CheckNums(2,8))\n",
    "\n",
    "# If the second entry is lower than the first, expected anwer is FALSE!  \n",
    "print (CheckNums(8,2))\n",
    "\n",
    "# If the second entry is equal the first, expected anwer is -1!  \n",
    "print (CheckNums(2,2))"
   ]
  },
  {
   "cell_type": "markdown",
   "metadata": {},
   "source": [
    "## <span style=\"color: blue;\">Problem #3 - Arithmetic or Geometric Sequence? </span>"
   ]
  },
  {
   "cell_type": "markdown",
   "metadata": {},
   "source": [
    "### Using the Python language, have the function ArithGeo(arr) take the array of numbers stored in arr and return the string \"Arithmetic\" if the sequence follows an arithmetic pattern or return \"Geometric\" if it follows a geometric pattern. If the sequence doesn't follow either pattern return -1. An arithmetic sequence is one where the difference between each of the numbers is consistent, where as in a geometric sequence, each term after the first is multiplied by some constant or common ratio. Arithmetic example: [2, 4, 6, 8] and Geometric example: [2, 6, 18, 54]. Negative numbers may be entered as parameters, 0 will not be entered, and no array will contain all the same elements."
   ]
  },
  {
   "cell_type": "code",
   "execution_count": 3,
   "metadata": {},
   "outputs": [
    {
     "name": "stdout",
     "output_type": "stream",
     "text": [
      "GEOMETRIC\n",
      "ARITHMETIC\n",
      "-1\n"
     ]
    },
    {
     "data": {
      "text/plain": [
       "(None, None, None)"
      ]
     },
     "execution_count": 3,
     "metadata": {},
     "output_type": "execute_result"
    }
   ],
   "source": [
    "# The first two function check if the strings/sequences are arithmetic or geometric respectively!\n",
    "\n",
    "# To be an arithmetic sequence the diference between each next number and its prior in the array has to be the same for all pairs!\n",
    "def arithmetic_check(arr):\n",
    "    diff = arr[1] - arr[0]\n",
    "    for num in range(len(arr)- 1):\n",
    "        if arr[num + 1] - arr[num] != diff:\n",
    "            return False\n",
    "    return True\n",
    "\n",
    "# To be a geometric sequence the quptient between each next number and its prior in the array has to be the same for all pairs!\n",
    "def geometric_check(arr):\n",
    "    multiplier = arr[1] // arr[0]\n",
    "    for num in range(len(arr)- 1):\n",
    "        if arr[num + 1] // arr[num] != multiplier:\n",
    "            return False\n",
    "    return True\n",
    "\n",
    "# This function only check what type of sequence we have, if not arithmetic or geometric, function returns -1.\n",
    "def ArithGeo(arr):\n",
    "    if arithmetic_check(arr):\n",
    "        return \"ARITHMETIC\"\n",
    "    elif geometric_check(arr):\n",
    "        return \"GEOMETRIC\"\n",
    "    else:\n",
    "        return -1\n",
    "\n",
    "# Lets print and test three possible scenarious:\n",
    "print(ArithGeo([2,6,18])), print(ArithGeo([2,4,6])), print(ArithGeo([1,-5,10]))"
   ]
  },
  {
   "cell_type": "markdown",
   "metadata": {},
   "source": [
    "## <span style=\"color: blue;\">Problem #4 - Prime Time </span>"
   ]
  },
  {
   "cell_type": "markdown",
   "metadata": {},
   "source": [
    "### Have the function PrimeTime(num) take the num parameter being passed and return the string true if the parameter is a prime number, otherwise return the string false. The range will be between 1 and $2^16$."
   ]
  },
  {
   "cell_type": "code",
   "execution_count": 4,
   "metadata": {},
   "outputs": [
    {
     "name": "stdout",
     "output_type": "stream",
     "text": [
      "True\n",
      "False\n"
     ]
    }
   ],
   "source": [
    "# We are importing math to calculate root square\n",
    "import math\n",
    "\n",
    "# This function aims to check if a number is prime or not.\n",
    "def PrimeTime(num):\n",
    "    if num <= 1:\n",
    "        return False\n",
    "    elif num == 2 or num == 3:\n",
    "        return True\n",
    "    else:\n",
    "        if num % 2 == 0:\n",
    "            return False\n",
    "        else:\n",
    "            for upper_bound in range(3, int(math.sqrt(num) + 1), 2):\n",
    "                if num % upper_bound == 0:\n",
    "                    return False\n",
    "    return True\n",
    "\n",
    "# Lets print two different cases below\n",
    "print (PrimeTime(int('79')))\n",
    "print (PrimeTime(int('81')))"
   ]
  },
  {
   "cell_type": "code",
   "execution_count": null,
   "metadata": {},
   "outputs": [],
   "source": []
  },
  {
   "cell_type": "code",
   "execution_count": null,
   "metadata": {},
   "outputs": [],
   "source": []
  }
 ],
 "metadata": {
  "kernelspec": {
   "display_name": "Python 3",
   "language": "python",
   "name": "python3"
  },
  "language_info": {
   "codemirror_mode": {
    "name": "ipython",
    "version": 3
   },
   "file_extension": ".py",
   "mimetype": "text/x-python",
   "name": "python",
   "nbconvert_exporter": "python",
   "pygments_lexer": "ipython3",
   "version": "3.7.3"
  }
 },
 "nbformat": 4,
 "nbformat_minor": 2
}
