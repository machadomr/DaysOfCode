{
 "cells": [
  {
   "cell_type": "markdown",
   "metadata": {},
   "source": [
    "# <center>Coder Byte</center> \n"
   ]
  },
  {
   "cell_type": "markdown",
   "metadata": {},
   "source": [
    "## <span style=\"color: blue;\">Problem #5 - Word Count </span>"
   ]
  },
  {
   "cell_type": "markdown",
   "metadata": {},
   "source": [
    "### Have the function WordCount(str) take the str string parameter being passed and return the number of words the string contains (ie. \"Never eat shredded wheat\" would return 4). Words will be separated by single spaces."
   ]
  },
  {
   "cell_type": "code",
   "execution_count": 1,
   "metadata": {},
   "outputs": [
    {
     "name": "stdout",
     "output_type": "stream",
     "text": [
      "4\n"
     ]
    }
   ],
   "source": [
    "def WordCount(str):\n",
    "    splitting = str.split(\" \")    \n",
    "    output = len(splitting)\n",
    "    return output\n",
    "\n",
    "print(WordCount('Never eat shredded wheat'))"
   ]
  },
  {
   "cell_type": "markdown",
   "metadata": {},
   "source": [
    "## <span style=\"color: blue;\">Problem #6 - Vowel Counter </span>"
   ]
  },
  {
   "cell_type": "markdown",
   "metadata": {},
   "source": [
    "### Have the function VowelCount(str) take the str string parameter being passed and return the number of vowels the string contains (ie. \"All cows eat grass\" would return 5). Do not count y as a vowel for this challenge."
   ]
  },
  {
   "cell_type": "code",
   "execution_count": 2,
   "metadata": {},
   "outputs": [
    {
     "name": "stdout",
     "output_type": "stream",
     "text": [
      "5\n"
     ]
    }
   ],
   "source": [
    "dictionary_vowels = [\"a\", \"e\", \"i\", \"o\", \"u\"]\n",
    "list_vowels = []\n",
    "\n",
    "def VowelCount(str):\n",
    "    for i in str:\n",
    "        if i in dictionary_vowels:\n",
    "            list_vowels.append(i)\n",
    "    number_vowels = len(list_vowels)\n",
    "    return number_vowels\n",
    "\n",
    "print(VowelCount('all cows eat grass'))"
   ]
  },
  {
   "cell_type": "markdown",
   "metadata": {},
   "source": [
    "## <span style=\"color: blue;\">Problem #7 - Time Converter </span>"
   ]
  },
  {
   "cell_type": "markdown",
   "metadata": {},
   "source": [
    "### Have the function TimeConvert(num) take the num parameter being passed and return the number of hours and minutes the parameter converts to (ie. if num = 63 then the output should be 1:3). Separate the number of hours and minutes with a colon."
   ]
  },
  {
   "cell_type": "code",
   "execution_count": 3,
   "metadata": {},
   "outputs": [
    {
     "name": "stdout",
     "output_type": "stream",
     "text": [
      "1:3\n"
     ]
    }
   ],
   "source": [
    "def TimeConvert(num): \n",
    "    count_hours = (num / 60)\n",
    "    minutes = (num % 60)\n",
    "    return \"%d:%d\" % (count_hours, minutes)\n",
    "\n",
    "print(TimeConvert(63))"
   ]
  },
  {
   "cell_type": "code",
   "execution_count": null,
   "metadata": {},
   "outputs": [],
   "source": []
  }
 ],
 "metadata": {
  "kernelspec": {
   "display_name": "Python 3",
   "language": "python",
   "name": "python3"
  },
  "language_info": {
   "codemirror_mode": {
    "name": "ipython",
    "version": 3
   },
   "file_extension": ".py",
   "mimetype": "text/x-python",
   "name": "python",
   "nbconvert_exporter": "python",
   "pygments_lexer": "ipython3",
   "version": "3.7.3"
  }
 },
 "nbformat": 4,
 "nbformat_minor": 2
}
