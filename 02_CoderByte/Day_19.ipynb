{
 "cells": [
  {
   "cell_type": "markdown",
   "metadata": {},
   "source": [
    "# <center>Coder Byte</center> \n"
   ]
  },
  {
   "cell_type": "markdown",
   "metadata": {},
   "source": [
    "## <span style=\"color: blue;\">Problem #8 - Simple Adding </span>"
   ]
  },
  {
   "cell_type": "markdown",
   "metadata": {},
   "source": [
    "### Have the function SimpleAdding(num) add up all the numbers from 1 to num. For the test cases, the parameter num will be any number from 1 to 1000."
   ]
  },
  {
   "cell_type": "code",
   "execution_count": 1,
   "metadata": {},
   "outputs": [
    {
     "name": "stdout",
     "output_type": "stream",
     "text": [
      "1\n",
      "3\n",
      "6\n",
      "10\n",
      "5050\n"
     ]
    }
   ],
   "source": [
    "def SimpleAdding(num):\n",
    "    temp = range((num + 1))\n",
    "    total = sum(temp)    \n",
    "    return total\n",
    "\n",
    "print(SimpleAdding(1))\n",
    "print(SimpleAdding(2))\n",
    "print(SimpleAdding(3))\n",
    "print(SimpleAdding(4))\n",
    "print(SimpleAdding(100))"
   ]
  },
  {
   "cell_type": "markdown",
   "metadata": {},
   "source": [
    "## <span style=\"color: blue;\">Problem #9 - Run Length </span>"
   ]
  },
  {
   "cell_type": "markdown",
   "metadata": {},
   "source": [
    "### Have the function RunLength(str) take the str parameter being passed and return a compressed version of the string using the Run-length encoding algorithm. This algorithm works by taking the occurrence of each repeating character and outputting that number along with a single character of the repeating sequence. For example: \"wwwggopp\" would return 3w2g1o2p. The string will not contain any numbers, punctuation, or symbols."
   ]
  },
  {
   "cell_type": "code",
   "execution_count": 4,
   "metadata": {},
   "outputs": [
    {
     "name": "stdout",
     "output_type": "stream",
     "text": [
      "3w2g1o2p\n",
      "16r14t13y\n",
      "1N19o\n"
     ]
    }
   ],
   "source": [
    "def RunLength(line):    \n",
    "    counter = 1\n",
    "    output_list = \"\"\n",
    "    size = (len(line) - 1)\n",
    "    for i in range(size):\n",
    "        if line[i] == line[i + 1]:\n",
    "            counter += 1\n",
    "        elif (line[i] != line[i + 1]):\n",
    "            output_list += str(counter)\n",
    "            output_list += (line[i])\n",
    "            counter = 1\n",
    "        elif i > (size):\n",
    "            output_list += str(counter)\n",
    "            output_list += (line[i])\n",
    "    output_list += str(counter)\n",
    "    output_list += (line[size])    \n",
    "    return output_list\n",
    "\n",
    "print(RunLength('wwwggopp'))\n",
    "print(RunLength('rrrrrrrrrrrrrrrrttttttttttttttyyyyyyyyyyyyy'))\n",
    "print(RunLength('Nooooooooooooooooooo'))"
   ]
  },
  {
   "cell_type": "code",
   "execution_count": null,
   "metadata": {},
   "outputs": [],
   "source": []
  }
 ],
 "metadata": {
  "kernelspec": {
   "display_name": "Python 3",
   "language": "python",
   "name": "python3"
  },
  "language_info": {
   "codemirror_mode": {
    "name": "ipython",
    "version": 3
   },
   "file_extension": ".py",
   "mimetype": "text/x-python",
   "name": "python",
   "nbconvert_exporter": "python",
   "pygments_lexer": "ipython3",
   "version": "3.7.3"
  }
 },
 "nbformat": 4,
 "nbformat_minor": 2
}
