{
 "cells": [
  {
   "cell_type": "markdown",
   "metadata": {},
   "source": [
    "# <center>Leet Code</center> \n"
   ]
  },
  {
   "cell_type": "markdown",
   "metadata": {},
   "source": [
    "## <span style=\"color: blue;\">Problem #1 - Roman to Integer </span>"
   ]
  },
  {
   "cell_type": "markdown",
   "metadata": {},
   "source": [
    "### Roman numerals are represented by seven different symbols: I, V, X, L, C, D and M.\n",
    "\n",
    "Symbol | Value\n",
    ":----:|:-------:\n",
    "I |            1\n",
    "V  |           5\n",
    "X  |           10\n",
    "L  |           50\n",
    "C  |           100\n",
    "D   |          500\n",
    "M   |          1000\n",
    "\n",
    "### For example, 2 is written as II in Roman numeral, just two one's added together. 12 is written as XII, which is simply X + II. The number 27 is written as XXVII, which is XX + V + II.\n",
    "\n",
    "### Roman numerals are usually written largest to smallest from left to right. However, the numeral for four is not IIII. Instead, the number four is written as IV. Because the one is before the five we subtract it making four. The same principle applies to the number nine, which is written as IX. There are six instances where subtraction is used:\n",
    "\n",
    "### I can be placed before V (5) and X (10) to make 4 and 9. \n",
    "### X can be placed before L (50) and C (100) to make 40 and 90. \n",
    "### C can be placed before D (500) and M (1000) to make 400 and 900.\n",
    "\n",
    "### Given a roman numeral, convert it to an integer."
   ]
  },
  {
   "cell_type": "code",
   "execution_count": 1,
   "metadata": {},
   "outputs": [
    {
     "name": "stdout",
     "output_type": "stream",
     "text": [
      "40\n"
     ]
    }
   ],
   "source": [
    "def romanToInt(self, s):\n",
    "    # Lets create the dictionary according to the table provided\n",
    "    dictionary = {'I': 1, 'V': 5, 'X': 10, 'L': 50, 'C': 100, 'D': 500, 'M': 1000}\n",
    "    previous, output = 0, 0\n",
    "    for i in s:\n",
    "        current = dictionary[i]\n",
    "        output += current\n",
    "        if current > previous:\n",
    "            output -= 2 * previous\n",
    "        previous = current\n",
    "    return output\n",
    "\n",
    "print(romanToInt('self', 'XL'))"
   ]
  },
  {
   "cell_type": "markdown",
   "metadata": {},
   "source": [
    "## <span style=\"color: blue;\">Problem #2 - Integer to Roman </span>"
   ]
  },
  {
   "cell_type": "markdown",
   "metadata": {},
   "source": [
    "### Roman numerals are represented by seven different symbols: I, V, X, L, C, D and M.\n",
    "\n",
    "Symbol | Value\n",
    ":----:|:-------:\n",
    "I |            1\n",
    "V  |           5\n",
    "X  |           10\n",
    "L  |           50\n",
    "C  |           100\n",
    "D   |          500\n",
    "M   |          1000\n",
    "\n",
    "### For example, 2 is written as II in Roman numeral, just two one's added together. 12 is written as XII, which is simply X + II. The number 27 is written as XXVII, which is XX + V + II.\n",
    "\n",
    "### Roman numerals are usually written largest to smallest from left to right. However, the numeral for four is not IIII. Instead, the number four is written as IV. Because the one is before the five we subtract it making four. The same principle applies to the number nine, which is written as IX. There are six instances where subtraction is used:\n",
    "\n",
    "### I can be placed before V (5) and X (10) to make 4 and 9. \n",
    "### X can be placed before L (50) and C (100) to make 40 and 90. \n",
    "### C can be placed before D (500) and M (1000) to make 400 and 900.\n",
    "### Given an integer, convert it to a roman numeral."
   ]
  },
  {
   "cell_type": "code",
   "execution_count": 2,
   "metadata": {},
   "outputs": [
    {
     "name": "stdout",
     "output_type": "stream",
     "text": [
      "XLV\n"
     ]
    }
   ],
   "source": [
    "def intToRoman(self, num):\n",
    "    integers = [1000, 900, 500, 400, 100, 90, 50, 40, 10, 9, 5, 4, 1]\n",
    "    roman = [\"M\", \"CM\", \"D\", \"CD\", \"C\", \"XC\", \"L\", \"XL\", \"X\", \"IX\", \"V\", \"IV\", \"I\"]\n",
    "    output = ''\n",
    "    i = 0\n",
    "    while num > 0:\n",
    "        j = num // integers[i]\n",
    "        for k in range(j):\n",
    "            output += roman[i]\n",
    "            num -= integers[i]\n",
    "        i += 1\n",
    "    return output\n",
    "\n",
    "print(intToRoman('self', 45))"
   ]
  },
  {
   "cell_type": "code",
   "execution_count": null,
   "metadata": {},
   "outputs": [],
   "source": []
  }
 ],
 "metadata": {
  "kernelspec": {
   "display_name": "Python 3",
   "language": "python",
   "name": "python3"
  },
  "language_info": {
   "codemirror_mode": {
    "name": "ipython",
    "version": 3
   },
   "file_extension": ".py",
   "mimetype": "text/x-python",
   "name": "python",
   "nbconvert_exporter": "python",
   "pygments_lexer": "ipython3",
   "version": "3.7.3"
  }
 },
 "nbformat": 4,
 "nbformat_minor": 2
}
