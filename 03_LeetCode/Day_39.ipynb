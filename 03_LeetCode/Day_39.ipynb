{
 "cells": [
  {
   "cell_type": "markdown",
   "metadata": {},
   "source": [
    "# <center>Leet Code</center> \n"
   ]
  },
  {
   "cell_type": "markdown",
   "metadata": {},
   "source": [
    "## <span style=\"color: blue;\">Problem #1 - Most Frequent Elements </span>"
   ]
  },
  {
   "cell_type": "markdown",
   "metadata": {},
   "source": [
    "### Given a non-empty array of integers, return the k most frequent elements.\n",
    "\t\n",
    "### For example, given [1,1,1,2,2,3] and k = 2, return [1,2]"
   ]
  },
  {
   "cell_type": "code",
   "execution_count": 6,
   "metadata": {},
   "outputs": [
    {
     "name": "stdout",
     "output_type": "stream",
     "text": [
      "1 0 "
     ]
    }
   ],
   "source": [
    "# Contribution from https://www.geeksforgeeks.org/\n",
    "\n",
    "def MostFrequent(arr, n, k):\n",
    " \n",
    "    updated_list = {}\n",
    "    for i in range(n):\n",
    "        if arr[i] in updated_list:\n",
    "            updated_list[arr[i]] += 1\n",
    "        else:\n",
    "            updated_list[arr[i]] = 1\n",
    "    a = [0] * (len(updated_list))\n",
    "    j = 0\n",
    "    for i in updated_list:\n",
    "        a[j] = [i, updated_list[i]]\n",
    "        j += 1\n",
    "    a = sorted(a, key=lambda x: x[0],\n",
    "               reverse=True)\n",
    "    a = sorted(a, key=lambda x: x[1],\n",
    "               reverse=True)\n",
    "    for i in range(k):\n",
    "        print(a[i][0], end=\" \")\n",
    "        \n",
    "arr = [1,1,1,1,1,2,2,2,5,5,6,6,9,8,0,0,0,0,4,4,7,7,7,7,7,7,7,7,7,7,7]\n",
    "n = 20\n",
    "k = 2\n",
    "MostFrequent(arr, n, k)"
   ]
  },
  {
   "cell_type": "code",
   "execution_count": null,
   "metadata": {},
   "outputs": [],
   "source": []
  }
 ],
 "metadata": {
  "kernelspec": {
   "display_name": "Python 3",
   "language": "python",
   "name": "python3"
  },
  "language_info": {
   "codemirror_mode": {
    "name": "ipython",
    "version": 3
   },
   "file_extension": ".py",
   "mimetype": "text/x-python",
   "name": "python",
   "nbconvert_exporter": "python",
   "pygments_lexer": "ipython3",
   "version": "3.7.3"
  }
 },
 "nbformat": 4,
 "nbformat_minor": 2
}
