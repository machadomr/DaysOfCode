{
 "cells": [
  {
   "cell_type": "markdown",
   "metadata": {},
   "source": [
    "# <center>Code Wars</center> \n"
   ]
  },
  {
   "cell_type": "markdown",
   "metadata": {},
   "source": [
    "## <span style=\"color: blue;\">Problem #1 - Persistence (Multiplication) </span>"
   ]
  },
  {
   "cell_type": "markdown",
   "metadata": {},
   "source": [
    "### Write a function, persistence, that takes in a positive parameter num and returns its multiplicative persistence, which is the number of times you must multiply the digits in num until you reach a single digit.\n",
    "\n",
    "### Examples:\n",
    "### 26   -->  2, and that is because we have 2*6 = 12, 1*2 = 2 (two multiplications);\n",
    "### 483 -->  4, and that is because we have 4*8*3 = 96, 9*6 = 54, 5*4 = 20, 2*0 = 0 (four multiplications);"
   ]
  },
  {
   "cell_type": "code",
   "execution_count": 1,
   "metadata": {},
   "outputs": [
    {
     "name": "stdout",
     "output_type": "stream",
     "text": [
      "2\n",
      "4\n",
      "4\n"
     ]
    }
   ],
   "source": [
    "def multiplicative_persistance(output):\n",
    "    counter = 0\n",
    "    while output > 9:\n",
    "        counter += 1\n",
    "        output_string = str(output)\n",
    "        total = 1\n",
    "        for i in output_string:\n",
    "            total = total * int(i)\n",
    "        output = total\n",
    "    return counter\n",
    "\n",
    "print(multiplicative_persistance(26))\n",
    "print(multiplicative_persistance(483))\n",
    "print(multiplicative_persistance(999))"
   ]
  },
  {
   "cell_type": "code",
   "execution_count": null,
   "metadata": {},
   "outputs": [],
   "source": []
  }
 ],
 "metadata": {
  "kernelspec": {
   "display_name": "Python 3",
   "language": "python",
   "name": "python3"
  },
  "language_info": {
   "codemirror_mode": {
    "name": "ipython",
    "version": 3
   },
   "file_extension": ".py",
   "mimetype": "text/x-python",
   "name": "python",
   "nbconvert_exporter": "python",
   "pygments_lexer": "ipython3",
   "version": "3.7.3"
  }
 },
 "nbformat": 4,
 "nbformat_minor": 2
}
