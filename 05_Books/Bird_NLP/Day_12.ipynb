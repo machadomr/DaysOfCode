{
 "cells": [
  {
   "cell_type": "markdown",
   "metadata": {},
   "source": [
    "# <center>Book: Steven Bird, Ewan Klein, Edward Loper, 2009. **Natural Language Processing (NLP) with Python**, O'Reilly.</center> \n"
   ]
  },
  {
   "cell_type": "markdown",
   "metadata": {},
   "source": [
    "## <span style=\"color: blue;\">Chapter #2 - Part 2</span>"
   ]
  },
  {
   "cell_type": "markdown",
   "metadata": {},
   "source": [
    "## <span style=\"color: blue;\">Today we will finish the exercises for chapter #2!</span>"
   ]
  },
  {
   "cell_type": "code",
   "execution_count": 1,
   "metadata": {},
   "outputs": [],
   "source": [
    "# Lets first import all we will need for these first questions\n",
    "import nltk\n",
    "from nltk.corpus import gutenberg\n",
    "from nltk.corpus import state_union\n",
    "from nltk.corpus import wordnet as wn\n",
    "from nltk.corpus import brown\n",
    "import matplotlib.pyplot as plt\n",
    "%matplotlib inline"
   ]
  },
  {
   "cell_type": "markdown",
   "metadata": {},
   "source": [
    "### 12) The CMU Pronouncing Dictionary contains multiple pronunciations for certain words. How many distinct words does it contain? What fraction of words in this dictionary have more than one possible pronunciation?"
   ]
  },
  {
   "cell_type": "code",
   "execution_count": 2,
   "metadata": {},
   "outputs": [
    {
     "data": {
      "text/plain": [
       "133737"
      ]
     },
     "execution_count": 2,
     "metadata": {},
     "output_type": "execute_result"
    }
   ],
   "source": [
    "# number of entries:\n",
    "number_entries = nltk.corpus.cmudict.entries()\n",
    "len(number_entries)"
   ]
  },
  {
   "cell_type": "code",
   "execution_count": 3,
   "metadata": {},
   "outputs": [
    {
     "data": {
      "text/plain": [
       "123455"
      ]
     },
     "execution_count": 3,
     "metadata": {},
     "output_type": "execute_result"
    }
   ],
   "source": [
    "# number of words:\n",
    "distinct_words = sorted(set([w for w, p in number_entries]))\n",
    "len(distinct_words)"
   ]
  },
  {
   "cell_type": "code",
   "execution_count": 4,
   "metadata": {},
   "outputs": [
    {
     "data": {
      "text/plain": [
       "0.07688223902136282"
      ]
     },
     "execution_count": 4,
     "metadata": {},
     "output_type": "execute_result"
    }
   ],
   "source": [
    "# The % of words with more than one possible pronunciation:\n",
    "(len(number_entries) - len(distinct_words)) / len(number_entries)"
   ]
  },
  {
   "cell_type": "markdown",
   "metadata": {},
   "source": [
    "** Thus, the fraction is $\\frac{768,822,390,213}{10,000,000,000,000}$ **"
   ]
  },
  {
   "cell_type": "markdown",
   "metadata": {},
   "source": [
    "### 14) Define a function supergloss(s) that takes a synset s as its argument and returns a string consisting of the concatenation of the definition of s, and the definitions of all the hypernyms and hyponyms of s."
   ]
  },
  {
   "cell_type": "code",
   "execution_count": 5,
   "metadata": {},
   "outputs": [],
   "source": [
    "# This function prints a concatenation of words and its definition along with all word's hyper. and hypo.\n",
    "def supergloss(synset):\n",
    "    full_stop = synset.index('.')\n",
    "    term = synset[:full_stop]\n",
    "    syn = wn.synset(synset)\n",
    "    print(term + \":\", syn.definition())\n",
    "    \n",
    "    print(\"\\nHYPERNYMS:\")\n",
    "    for s in syn.hypernyms():\n",
    "        names = []\n",
    "        for name in s.lemma_names():\n",
    "            names.append(name)\n",
    "        print(\", \".join(names) + \":\", s.definition())\n",
    "\n",
    "    print(\"\\nHYPONYMS:\")\n",
    "    for s in syn.hyponyms():\n",
    "        names = []\n",
    "        for name in s.lemma_names():\n",
    "            names.append(name)\n",
    "        print(\", \".join(names) + \":\", s.definition())"
   ]
  },
  {
   "cell_type": "code",
   "execution_count": 6,
   "metadata": {},
   "outputs": [
    {
     "name": "stdout",
     "output_type": "stream",
     "text": [
      "drum: a musical percussion instrument; usually consists of a hollow cylinder with a membrane stretched across each end\n",
      "\n",
      "HYPERNYMS:\n",
      "percussion_instrument, percussive_instrument: a musical instrument in which the sound is produced by one object striking another\n",
      "\n",
      "HYPONYMS:\n",
      "bass_drum, gran_casa: a large drum with two heads; makes a sound of indefinite but very low pitch\n",
      "bongo, bongo_drum: a small drum; played with the hands\n",
      "snare_drum, snare, side_drum: a small drum with two heads and a snare stretched across the lower head\n",
      "tabor, tabour: a small drum with one head of soft calfskin\n",
      "tambour: a drum\n",
      "tambourine: a shallow drum with a single drumhead and with metallic disks in the sides\n",
      "tenor_drum, tom-tom: any of various drums with small heads\n",
      "timbrel: small hand drum similar to a tambourine; formerly carried by itinerant jugglers\n"
     ]
    }
   ],
   "source": [
    "supergloss('drum.n.01')"
   ]
  },
  {
   "cell_type": "markdown",
   "metadata": {},
   "source": [
    "### 16) Write a program to generate a table of lexical diversity scores (i.e. token/type ratios), as we saw in 1.1. Include the full set of Brown Corpus genres (nltk.corpus.brown.categories()). Which genre has the lowest diversity (greatest number of tokens per type)? Is this what you would have expected?"
   ]
  },
  {
   "cell_type": "code",
   "execution_count": 7,
   "metadata": {},
   "outputs": [],
   "source": [
    "# This function coerces nested lists or strings to a flat list\n",
    "def coerce_to_list(text):\n",
    "    if type(text[0]) == list:\n",
    "        text = [i for s in text for i in s]\n",
    "    elif type(text) == str:\n",
    "        text = text.split(\" \")\n",
    "    return list(text)"
   ]
  },
  {
   "cell_type": "code",
   "execution_count": 8,
   "metadata": {},
   "outputs": [],
   "source": [
    "# This function returns the diversity score of a text. If we have a lower frequency of words we have a high score.\n",
    "def lexical_diversity(text):\n",
    "    text = coerce_to_list(text)\n",
    "    return len(set(text)) / len(text)"
   ]
  },
  {
   "cell_type": "code",
   "execution_count": 9,
   "metadata": {},
   "outputs": [
    {
     "name": "stdout",
     "output_type": "stream",
     "text": [
      "The scores are: \n",
      "adventure:        0.1279743878169075\n",
      "belles_lettres:   0.10642071451679992\n",
      "editorial:        0.16054152327770924\n",
      "fiction:          0.1358194136199042\n",
      "government:       0.11667641228232811\n",
      "hobbies:          0.14493897625842492\n",
      "humor:            0.23125144042406084\n",
      "learned:          0.09268890745953554\n",
      "lore:             0.13148804612915801\n",
      "mystery:          0.12212912592488936\n",
      "news:             0.14314696580941583\n",
      "religion:         0.1617553745018909\n",
      "reviews:          0.21192020440251572\n",
      "romance:          0.12070492131044529\n",
      "science_fiction:  0.22342778161713892\n"
     ]
    }
   ],
   "source": [
    "print(\"The scores are: \")\n",
    "for c in brown.categories():\n",
    "    ld = lexical_diversity(brown.words(categories = c))\n",
    "    print(\"{}: {} {}\".format(c, \" \" * (15 - len(c)), ld))"
   ]
  },
  {
   "cell_type": "markdown",
   "metadata": {},
   "source": [
    "**Humor has the highest score, and learned the lowest.**\n",
    "\n",
    "**Below we will explore the relationship number of tokens and diversity among the different genres!**"
   ]
  },
  {
   "cell_type": "code",
   "execution_count": 10,
   "metadata": {},
   "outputs": [
    {
     "name": "stdout",
     "output_type": "stream",
     "text": [
      "# of Tokens per category: \t Lexical diversity:\n",
      "adventure:             69342 \t 0.12797\n",
      "belles_lettres:        173096 \t 0.10642\n",
      "editorial:             61604 \t 0.16054\n",
      "fiction:               68488 \t 0.13582\n",
      "government:            70117 \t 0.11668\n",
      "hobbies:               82345 \t 0.14494\n",
      "humor:                 21695 \t 0.23125\n",
      "learned:               181888 \t 0.09269\n",
      "lore:                  110299 \t 0.13149\n",
      "mystery:               57169 \t 0.12213\n",
      "news:                  100554 \t 0.14315\n",
      "religion:              39399 \t 0.16176\n",
      "reviews:               40704 \t 0.21192\n",
      "romance:               70022 \t 0.12070\n",
      "science_fiction:       14470 \t 0.22343\n"
     ]
    }
   ],
   "source": [
    "print(\"# of Tokens per category: \\t Lexical diversity:\")\n",
    "for c in brown.categories():\n",
    "    t = len(brown.words(categories = c))\n",
    "    ld = lexical_diversity(brown.words(categories = c))\n",
    "    print(\"{}: {} {} \\t {:.5f}\".format(c, \" \" * (20 - len(c)), t, ld))"
   ]
  },
  {
   "cell_type": "code",
   "execution_count": 11,
   "metadata": {},
   "outputs": [
    {
     "data": {
      "image/png": "[encoded data removed]",
      "text/plain": [
       "<Figure size 1080x720 with 1 Axes>"
      ]
     },
     "metadata": {
      "needs_background": "light"
     },
     "output_type": "display_data"
    }
   ],
   "source": [
    "tokens = []\n",
    "lex_div = []\n",
    "\n",
    "for c in brown.categories():\n",
    "    tokens.append(len(brown.words(categories = c)))\n",
    "    lex_div.append(lexical_diversity(brown.words(categories = c)))\n",
    "\n",
    "# normalizing the arrays\n",
    "tokens = [t/max(tokens) for t in tokens]\n",
    "lex_div = [l/max(lex_div) for l in lex_div]\n",
    "\n",
    "plt.figure(figsize = (15, 10))\n",
    "plt.plot(tokens, label = \"# of Tokens\")\n",
    "plt.plot(lex_div, label = \"Lexical Diversity\")\n",
    "plt.legend()\n",
    "plt.xticks(range(15), brown.categories(), rotation = 45)\n",
    "\n",
    "plt.show()"
   ]
  },
  {
   "cell_type": "markdown",
   "metadata": {},
   "source": [
    "### 18) Write a program to print the 50 most frequent bigrams (pairs of adjacent words) of a text, omitting bigrams that contain stopwords."
   ]
  },
  {
   "cell_type": "code",
   "execution_count": 12,
   "metadata": {},
   "outputs": [],
   "source": [
    "# This function returns a list of the most frequent bigrams without stopwords.\n",
    "# Arguments: text, n (# of most frequent bigrams), lang (language for stopwords)\n",
    "def most_freq_bigrams_wo_stopwords(text, n = 50, lang = 'english'):\n",
    "    text = coerce_to_list(text)\n",
    "    stopwords = nltk.corpus.stopwords.words(lang)\n",
    "    bigrams = nltk.bigrams(w.lower() for w in text if w.lower().isalpha() and w.lower() not in stopwords)\n",
    "    fd = nltk.FreqDist(bigrams)\n",
    "    return fd.most_common(n)"
   ]
  },
  {
   "cell_type": "code",
   "execution_count": 13,
   "metadata": {},
   "outputs": [
    {
     "name": "stdout",
     "output_type": "stream",
     "text": [
      "[(('united', 'states'), 392), (('new', 'york'), 296), (('per', 'cent'), 146), (('years', 'ago'), 138), (('af', 'af'), 129), (('could', 'see'), 93), (('rhode', 'island'), 91), (('last', 'year'), 78), (('even', 'though'), 77), (('high', 'school'), 74), (('white', 'house'), 68), (('first', 'time'), 68), (('old', 'man'), 68), (('world', 'war'), 66), (('two', 'years'), 62), (('let', 'us'), 62), (('one', 'thing'), 60), (('fiscal', 'year'), 58), (('last', 'night'), 57), (('peace', 'corps'), 55), (('one', 'day'), 53), (('one', 'another'), 52), (('would', 'like'), 51), (('last', 'week'), 51), (('united', 'nations'), 49), (('new', 'england'), 49), (('young', 'man'), 47), (('los', 'angeles'), 47), (('two', 'men'), 46), (('one', 'two'), 43), (('great', 'deal'), 43), (('civil', 'war'), 42), (('president', 'kennedy'), 41), (('would', 'make'), 41), (('time', 'time'), 41), (('general', 'motors'), 41), (('small', 'business'), 41), (('long', 'time'), 40), (('new', 'orleans'), 40), (('many', 'years'), 40), (('one', 'time'), 39), (('san', 'francisco'), 39), (('two', 'three'), 39), (('men', 'women'), 39), (('said', 'would'), 38), (('would', 'seem'), 38), (('ten', 'years'), 37), (('would', 'never'), 37), (('one', 'side'), 36), (('first', 'two'), 36)]"
     ]
    }
   ],
   "source": [
    "print(most_freq_bigrams_wo_stopwords(brown.words()), end = '')"
   ]
  },
  {
   "cell_type": "code",
   "execution_count": 14,
   "metadata": {},
   "outputs": [
    {
     "name": "stdout",
     "output_type": "stream",
     "text": [
      "[(('united', 'states'), 392), (('new', 'york'), 296), (('per', 'cent'), 146), (('years', 'ago'), 138), (('af', 'af'), 129), (('could', 'see'), 93), (('rhode', 'island'), 91), (('last', 'year'), 78), (('even', 'though'), 77), (('high', 'school'), 74), (('white', 'house'), 68), (('first', 'time'), 68), (('old', 'man'), 68), (('world', 'war'), 66), (('two', 'years'), 62), (('let', 'us'), 62), (('one', 'thing'), 60), (('fiscal', 'year'), 58), (('last', 'night'), 57), (('peace', 'corps'), 55), (('one', 'day'), 53), (('one', 'another'), 52), (('would', 'like'), 51), (('last', 'week'), 51), (('united', 'nations'), 49), (('new', 'england'), 49), (('young', 'man'), 47), (('los', 'angeles'), 47), (('two', 'men'), 46), (('one', 'two'), 43), (('great', 'deal'), 43), (('civil', 'war'), 42), (('president', 'kennedy'), 41), (('would', 'make'), 41), (('time', 'time'), 41), (('general', 'motors'), 41), (('small', 'business'), 41), (('long', 'time'), 40), (('new', 'orleans'), 40), (('many', 'years'), 40), (('one', 'time'), 39), (('san', 'francisco'), 39), (('two', 'three'), 39), (('men', 'women'), 39), (('said', 'would'), 38), (('would', 'seem'), 38), (('ten', 'years'), 37), (('would', 'never'), 37), (('one', 'side'), 36), (('first', 'two'), 36)]"
     ]
    }
   ],
   "source": [
    "print(most_freq_bigrams_wo_stopwords(brown.sents()), end = '')"
   ]
  },
  {
   "cell_type": "markdown",
   "metadata": {},
   "source": [
    "### 20) Write a function word_freq() that takes a word and the name of a section of the Brown Corpus as arguments, and computes the frequency of the word in that section of the corpus."
   ]
  },
  {
   "cell_type": "code",
   "execution_count": 15,
   "metadata": {},
   "outputs": [],
   "source": [
    "# This function returns the frequency of a given section in the Brown corpus.\n",
    "def word_freq(word, genre):\n",
    "    i = 0\n",
    "    for w in brown.words(categories = genre):\n",
    "        if w.lower() == word.lower():\n",
    "            i += 1\n",
    "    return i"
   ]
  },
  {
   "cell_type": "code",
   "execution_count": 16,
   "metadata": {},
   "outputs": [
    {
     "data": {
      "text/plain": [
       "142"
      ]
     },
     "execution_count": 16,
     "metadata": {},
     "output_type": "execute_result"
    }
   ],
   "source": [
    "word_freq(\"President\", \"news\")"
   ]
  },
  {
   "cell_type": "markdown",
   "metadata": {},
   "source": [
    "### 22) Define a function hedge(text) which processes a text and produces a new version with the word 'like' between every third word."
   ]
  },
  {
   "cell_type": "code",
   "execution_count": 17,
   "metadata": {},
   "outputs": [],
   "source": [
    "# This funciton returns a modified version of a text, including a word after an interval words along all text\n",
    "def hedge(text, word, interval = 3, output = \"string\"):\n",
    "    text = coerce_to_list(text)\n",
    "    if output == \"string\":\n",
    "        newstring = \"\"\n",
    "        i = 1\n",
    "        for t in text:\n",
    "            if t.isalpha() and i % interval == 0:\n",
    "                newstring += t + \" \" + word + \" \"\n",
    "                i += 1\n",
    "            elif t.isalpha():    \n",
    "                newstring += t + \" \"\n",
    "                i += 1\n",
    "            else:\n",
    "                newstring += t + \" \"\n",
    "        return newstring\n",
    "    elif output == \"list\":\n",
    "        newlist = []\n",
    "        i = 1\n",
    "        for t in text:\n",
    "            if t.isalpha() and i % interval == 0:\n",
    "                newlist.append(t)\n",
    "                newlist.append(word)\n",
    "                i += 1\n",
    "            elif t.isalpha():    \n",
    "                newlist.append(t)\n",
    "                i += 1\n",
    "            else:\n",
    "                newlist.append(t)\n",
    "        return newlist\n",
    "    else:\n",
    "        print(\"Output can only be a string!\")    "
   ]
  },
  {
   "cell_type": "code",
   "execution_count": 18,
   "metadata": {},
   "outputs": [
    {
     "data": {
      "text/plain": [
       "'this is a like test of a like test for a like test '"
      ]
     },
     "execution_count": 18,
     "metadata": {},
     "output_type": "execute_result"
    }
   ],
   "source": [
    "hedge(\"this is a test of a test for a test\", \"like\")"
   ]
  },
  {
   "cell_type": "code",
   "execution_count": 19,
   "metadata": {},
   "outputs": [
    {
     "name": "stdout",
     "output_type": "stream",
     "text": [
      "['It', 'was', 'among', 'like', 'these', 'that', 'Hinkle', 'like', 'identified', 'a', 'photograph', 'like', 'of', 'Barco', '!', '!', 'For', 'like', 'it', 'seems', 'that', 'like', 'Barco', ',', 'fancying', 'himself', 'like', 'a', \"ladies'\", 'man', '(', 'and', 'like', 'why', 'not', ',', 'after', 'like', 'seven', 'marriages', '?', '?', ')', ',', 'had', 'like', 'listed', 'himself', 'for', 'like', 'Mormon', 'Beard', 'roles', 'like', 'at', 'the', 'instigation', 'like', 'of', 'his', 'fourth', 'like', 'murder', 'victim', 'who', 'like', 'had', 'said', ':', '``', 'With', 'like', 'your', 'beard', ',', 'dear', 'like', ',', 'you', 'ought', 'to', 'like', 'be', 'in', 'movies', 'like', \"''\", '!', '!', 'Mills', 'secured', \"Barco's\", 'photograph', 'like', 'from', 'the', 'gentleman', 'like', 'in', 'charge', ',', 'rushed', 'like', 'to', 'the', 'Hollywood', 'like', 'police', 'station', 'to', 'like', 'report', 'the', 'theft', 'like', ',', 'and', 'less', 'than', 'like', 'five', 'minutes', 'later', 'like', ',', 'detectives', 'with', 'his', 'like', 'picture', 'in', 'hand', 'like', 'were', 'on', 'the', 'like', 'trail', 'of', 'Cal', 'like', 'Barco', '.', 'On', 'their', 'like', 'way', ',', 'they', 'stopped', 'like', 'at', 'every', 'gas', 'like', 'station', 'along', 'the', 'like', 'main', 'boulevards', 'to', 'like', 'question', 'the', 'attendants', 'like', '.']"
     ]
    }
   ],
   "source": [
    "print(hedge(brown.sents(categories = 'humor')[0:5], \"like\", output = \"list\"), end = '')"
   ]
  },
  {
   "cell_type": "markdown",
   "metadata": {},
   "source": [
    "### 26) What is the branching factor of the noun hypernym hierarchy? I.e. for every noun synset that has hyponyms — or children in the hypernym hierarchy — how many do they have on average? You can get all noun synsets using wn.all_synsets('n')."
   ]
  },
  {
   "cell_type": "code",
   "execution_count": 20,
   "metadata": {},
   "outputs": [
    {
     "data": {
      "text/plain": [
       "0.9237045606770992"
      ]
     },
     "execution_count": 20,
     "metadata": {},
     "output_type": "execute_result"
    }
   ],
   "source": [
    "from nltk.corpus import wordnet as wn\n",
    "\n",
    "l = list(wn.all_synsets('n'))\n",
    "\n",
    "hypo_branches = []\n",
    "for i in l:\n",
    "    hypo_branches.append(len(i.hyponyms()))\n",
    "\n",
    "sum(hypo_branches)/len(hypo_branches)"
   ]
  },
  {
   "cell_type": "code",
   "execution_count": 21,
   "metadata": {},
   "outputs": [
    {
     "data": {
      "text/plain": [
       "0.9237045606770992"
      ]
     },
     "execution_count": 21,
     "metadata": {},
     "output_type": "execute_result"
    }
   ],
   "source": [
    "hyper_branches = []\n",
    "for i in l:\n",
    "    hyper_branches.append(len(i.hypernyms()))\n",
    "sum(hyper_branches)/len(hyper_branches)"
   ]
  },
  {
   "cell_type": "code",
   "execution_count": 22,
   "metadata": {},
   "outputs": [],
   "source": [
    "## Some of the functions used here were inspired by https://github.com/Sturzgefahr/"
   ]
  },
  {
   "cell_type": "code",
   "execution_count": null,
   "metadata": {},
   "outputs": [],
   "source": []
  }
 ],
 "metadata": {
  "kernelspec": {
   "display_name": "Python 3",
   "language": "python",
   "name": "python3"
  },
  "language_info": {
   "codemirror_mode": {
    "name": "ipython",
    "version": 3
   },
   "file_extension": ".py",
   "mimetype": "text/x-python",
   "name": "python",
   "nbconvert_exporter": "python",
   "pygments_lexer": "ipython3",
   "version": "3.7.3"
  }
 },
 "nbformat": 4,
 "nbformat_minor": 2
}
