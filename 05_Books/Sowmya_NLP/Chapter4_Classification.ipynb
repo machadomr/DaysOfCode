{
 "cells": [
  {
   "cell_type": "markdown",
   "id": "greater-october",
   "metadata": {},
   "source": [
    "**Chapter 4 – Text Classification**\n",
    "#### I will be following the chapter activities!"
   ]
  },
  {
   "cell_type": "markdown",
   "id": "sized-central",
   "metadata": {},
   "source": [
    "## Spam Classification"
   ]
  },
  {
   "cell_type": "code",
   "execution_count": null,
   "id": "unique-evans",
   "metadata": {},
   "outputs": [],
   "source": [
    "!wget https://archive.ics.uci.edu/ml/machine-learning-databases/00228/smsspamcollection.zip\n",
    "!unzip smsspamcollection.zip"
   ]
  },
  {
   "cell_type": "code",
   "execution_count": null,
   "id": "finite-brisbane",
   "metadata": {},
   "outputs": [],
   "source": [
    "import pandas as pd"
   ]
  },
  {
   "cell_type": "code",
   "execution_count": null,
   "id": "rising-invitation",
   "metadata": {},
   "outputs": [],
   "source": [
    "df = pd.read_csv('SMSSpamCollection', sep='\\t',  header=None, names=['target', 'text'])"
   ]
  },
  {
   "cell_type": "code",
   "execution_count": null,
   "id": "african-mystery",
   "metadata": {},
   "outputs": [],
   "source": [
    "import fastai\n",
    "from fastai import *\n",
    "from fastai.text import * \n",
    "import pandas as pd\n",
    "import numpy as np\n",
    "from functools import partial\n",
    "import io\n",
    "import os"
   ]
  },
  {
   "cell_type": "code",
   "execution_count": null,
   "id": "formed-stupid",
   "metadata": {},
   "outputs": [],
   "source": [
    "df.head()"
   ]
  },
  {
   "cell_type": "code",
   "execution_count": null,
   "id": "entire-watershed",
   "metadata": {},
   "outputs": [],
   "source": [
    "display(df.shape) #Number of rows (instances) and columns in the dataset\n",
    "df[\"target\"].value_counts()/df.shape[0] #Class distribution in the dataset"
   ]
  },
  {
   "cell_type": "code",
   "execution_count": null,
   "id": "immune-pricing",
   "metadata": {},
   "outputs": [],
   "source": [
    "from sklearn.model_selection import train_test_split\n",
    "\n",
    "# split data into training and validation set\n",
    "df_train, df_test = train_test_split(df,stratify = df['target'], test_size = 0.2, random_state = 2020)"
   ]
  },
  {
   "cell_type": "code",
   "execution_count": null,
   "id": "desperate-joint",
   "metadata": {},
   "outputs": [],
   "source": [
    "df_train.shape,df_test.shape"
   ]
  },
  {
   "cell_type": "code",
   "execution_count": null,
   "id": "brazilian-attempt",
   "metadata": {},
   "outputs": [],
   "source": [
    "# Language model data\n",
    "data_lm = TextLMDataBunch.from_df(train_df = df_train, valid_df = df_test, path = \"\")\n",
    "\n",
    "# Classifier model data\n",
    "data_class = TextClasDataBunch.from_df(path = \"\", train_df = df_train, valid_df = df_test, vocab=data_lm.train_ds.vocab, bs=32)"
   ]
  },
  {
   "cell_type": "code",
   "execution_count": null,
   "id": "forward-papua",
   "metadata": {},
   "outputs": [],
   "source": [
    "data_lm.show_batch()"
   ]
  },
  {
   "cell_type": "code",
   "execution_count": null,
   "id": "daily-jenny",
   "metadata": {},
   "outputs": [],
   "source": [
    "model = language_model_learner(data_lm,  arch = AWD_LSTM, pretrained = True, drop_mult=0.5)"
   ]
  },
  {
   "cell_type": "code",
   "execution_count": null,
   "id": "amazing-signal",
   "metadata": {},
   "outputs": [],
   "source": [
    "for i in range(10):\n",
    "  print(model.predict(\"The food is\", n_words=15))"
   ]
  },
  {
   "cell_type": "code",
   "execution_count": null,
   "id": "criminal-sustainability",
   "metadata": {},
   "outputs": [],
   "source": [
    "model.lr_find() # you can find more details about this at https://docs.fast.ai/basic_train.html\n",
    "model.recorder.plot(suggestion=True)"
   ]
  },
  {
   "cell_type": "code",
   "execution_count": null,
   "id": "global-director",
   "metadata": {},
   "outputs": [],
   "source": [
    "model.fit_one_cycle(1, max_lr= 5e-02)#you can freeze and unfreeze different layers and by doing so we can have different lr for each layer\n",
    "#for freezing and unfreezing code you can refer https://docs.fast.ai/text.html\n"
   ]
  },
  {
   "cell_type": "code",
   "execution_count": null,
   "id": "capital-george",
   "metadata": {},
   "outputs": [],
   "source": [
    "for i in range(10):\n",
    "  print(model.predict(\"The food is\", n_words=15))"
   ]
  },
  {
   "cell_type": "code",
   "execution_count": null,
   "id": "seasonal-walter",
   "metadata": {},
   "outputs": [],
   "source": []
  }
 ],
 "metadata": {
  "kernelspec": {
   "display_name": "Python 3",
   "language": "python",
   "name": "python3"
  },
  "language_info": {
   "codemirror_mode": {
    "name": "ipython",
    "version": 3
   },
   "file_extension": ".py",
   "mimetype": "text/x-python",
   "name": "python",
   "nbconvert_exporter": "python",
   "pygments_lexer": "ipython3",
   "version": "3.7.3"
  }
 },
 "nbformat": 4,
 "nbformat_minor": 5
}
